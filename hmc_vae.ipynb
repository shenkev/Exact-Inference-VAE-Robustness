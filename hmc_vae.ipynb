{
 "cells": [
  {
   "cell_type": "code",
   "execution_count": 21,
   "metadata": {
    "collapsed": true
   },
   "outputs": [],
   "source": [
    "import tensorflow as tf\n",
    "import numpy as np\n",
    "import matplotlib.pyplot as plt\n",
    "import matplotlib.gridspec as gridspec\n",
    "import os\n",
    "from tensorflow.examples.tutorials.mnist import input_data\n",
    "\n",
    "from edward.models import Normal, Bernoulli, Empirical\n",
    "import edward as ed"
   ]
  },
  {
   "cell_type": "code",
   "execution_count": 22,
   "metadata": {},
   "outputs": [
    {
     "name": "stdout",
     "output_type": "stream",
     "text": [
      "Extracting ./MNIST_data/train-images-idx3-ubyte.gz\n",
      "Extracting ./MNIST_data/train-labels-idx1-ubyte.gz\n",
      "Extracting ./MNIST_data/t10k-images-idx3-ubyte.gz\n",
      "Extracting ./MNIST_data/t10k-labels-idx1-ubyte.gz\n"
     ]
    }
   ],
   "source": [
    "mnist = input_data.read_data_sets('./MNIST_data', one_hot=True)\n",
    "mb_size = 64\n",
    "z_dim = 100\n",
    "X_dim = mnist.train.images.shape[1]\n",
    "y_dim = mnist.train.labels.shape[1]\n",
    "h_dim = 128\n",
    "c = 0\n",
    "lr = 1e-3"
   ]
  },
  {
   "cell_type": "code",
   "execution_count": 23,
   "metadata": {
    "collapsed": true
   },
   "outputs": [],
   "source": [
    "def plot(samples):\n",
    "    fig = plt.figure(figsize=(4, 4))\n",
    "    gs = gridspec.GridSpec(4, 4)\n",
    "    gs.update(wspace=0.05, hspace=0.05)\n",
    "\n",
    "    for i, sample in enumerate(samples):\n",
    "        ax = plt.subplot(gs[i])\n",
    "        plt.axis('off')\n",
    "        ax.set_xticklabels([])\n",
    "        ax.set_yticklabels([])\n",
    "        ax.set_aspect('equal')\n",
    "        plt.imshow(sample.reshape(28, 28), cmap='Greys_r')\n",
    "\n",
    "    return fig\n",
    "\n",
    "\n",
    "def xavier_init(size):\n",
    "    in_dim = size[0]\n",
    "    xavier_stddev = 1. / tf.sqrt(in_dim / 2.)\n",
    "    return tf.random_normal(shape=size, stddev=xavier_stddev)"
   ]
  },
  {
   "cell_type": "code",
   "execution_count": 24,
   "metadata": {
    "collapsed": true
   },
   "outputs": [],
   "source": [
    "# =============================== Q(z|X) Encoder ======================================\n",
    "\n",
    "Q_W1 = tf.Variable(xavier_init([X_dim, h_dim]))\n",
    "Q_b1 = tf.Variable(tf.zeros(shape=[h_dim]))\n",
    "\n",
    "Q_W2_mu = tf.Variable(xavier_init([h_dim, z_dim]))\n",
    "Q_b2_mu = tf.Variable(tf.zeros(shape=[z_dim]))\n",
    "\n",
    "Q_W2_sigma = tf.Variable(xavier_init([h_dim, z_dim]))\n",
    "Q_b2_sigma = tf.Variable(tf.zeros(shape=[z_dim]))\n",
    "\n",
    "\n",
    "def Q(X, reuse=True):\n",
    "    with tf.variable_scope('encoder', reuse=reuse):\n",
    "        h = tf.nn.relu(tf.matmul(X, Q_W1) + Q_b1)\n",
    "        z_mu = tf.matmul(h, Q_W2_mu) + Q_b2_mu\n",
    "        z_logvar = tf.matmul(h, Q_W2_sigma) + Q_b2_sigma\n",
    "        return z_mu, z_logvar\n",
    "\n",
    "# =============================== Sampling Helper ======================================\n",
    "def sample_z(mu, log_var):\n",
    "    eps = tf.random_normal(shape=tf.shape(mu))\n",
    "    return mu + tf.exp(log_var / 2) * eps\n",
    "\n",
    "# =============================== P(X|z) Decoder ======================================\n",
    "\n",
    "P_W1 = tf.Variable(xavier_init([z_dim, h_dim]))\n",
    "P_b1 = tf.Variable(tf.zeros(shape=[h_dim]))\n",
    "\n",
    "P_W2 = tf.Variable(xavier_init([h_dim, X_dim]))\n",
    "P_b2 = tf.Variable(tf.zeros(shape=[X_dim]))\n",
    "\n",
    "\n",
    "def P(z, reuse=True):\n",
    "    with tf.variable_scope('decoder', reuse=reuse):\n",
    "        h = tf.nn.relu(tf.matmul(z, P_W1) + P_b1)\n",
    "        logits = tf.matmul(h, P_W2) + P_b2\n",
    "        prob = tf.nn.sigmoid(logits)\n",
    "        return prob, logits\n",
    "\n"
   ]
  },
  {
   "cell_type": "code",
   "execution_count": 25,
   "metadata": {
    "collapsed": true
   },
   "outputs": [],
   "source": [
    "# =============================== DEFINE LOSS ====================================\n",
    "X = tf.placeholder(tf.float32, shape=[None, X_dim])\n",
    "z = tf.placeholder(tf.float32, shape=[None, z_dim])\n",
    "\n",
    "z_mu, z_logvar = Q(X)\n",
    "z_sample = sample_z(z_mu, z_logvar)\n",
    "_, logits = P(z_sample)\n",
    "\n",
    "# Sampling from random z\n",
    "X_samples, _ = P(z)\n",
    "\n",
    "# E[log P(X|z)]\n",
    "recon_loss = tf.reduce_sum(tf.nn.sigmoid_cross_entropy_with_logits(logits=logits, labels=X), 1)\n",
    "# D_KL(Q(z|X) || P(z)); calculate in closed form as both dist. are Gaussian\n",
    "kl_loss = 0.5 * tf.reduce_sum(tf.exp(z_logvar) + z_mu**2 - 1. - z_logvar, 1)\n",
    "# VAE loss\n",
    "vae_loss = tf.reduce_mean(recon_loss + kl_loss)\n",
    "\n",
    "solver = tf.train.AdamOptimizer().minimize(vae_loss)\n",
    "\n",
    "# sess = tf.Session()\n",
    "sess = ed.get_session() # need to make sure tf and edward share the global session\n",
    "sess.run(tf.global_variables_initializer())\n",
    "\n",
    "if not os.path.exists('out/'):\n",
    "    os.makedirs('out/')"
   ]
  },
  {
   "cell_type": "code",
   "execution_count": 26,
   "metadata": {},
   "outputs": [
    {
     "name": "stdout",
     "output_type": "stream",
     "text": [
      "Iter: 0\n",
      "Loss: 795.6\n",
      "()\n",
      "Iter: 1000\n",
      "Loss: 147.4\n",
      "()\n",
      "Iter: 2000\n",
      "Loss: 124.8\n",
      "()\n",
      "Iter: 3000\n",
      "Loss: 122.0\n",
      "()\n",
      "Iter: 4000\n",
      "Loss: 115.7\n",
      "()\n",
      "Iter: 5000\n",
      "Loss: 115.8\n",
      "()\n",
      "Iter: 6000\n",
      "Loss: 119.9\n",
      "()\n",
      "Iter: 7000\n",
      "Loss: 120.1\n",
      "()\n",
      "Iter: 8000\n",
      "Loss: 114.8\n",
      "()\n",
      "Iter: 9000\n",
      "Loss: 112.3\n",
      "()\n",
      "Iter: 10000\n",
      "Loss: 108.0\n",
      "()\n",
      "Iter: 11000\n",
      "Loss: 113.0\n",
      "()\n",
      "Iter: 12000\n",
      "Loss: 108.3\n",
      "()\n",
      "Iter: 13000\n",
      "Loss: 112.2\n",
      "()\n",
      "Iter: 14000\n",
      "Loss: 112.3\n",
      "()\n",
      "Iter: 15000\n",
      "Loss: 110.9\n",
      "()\n",
      "Iter: 16000\n",
      "Loss: 107.4\n",
      "()\n",
      "Iter: 17000\n",
      "Loss: 105.6\n",
      "()\n",
      "Iter: 18000\n",
      "Loss: 110.9\n",
      "()\n",
      "Iter: 19000\n",
      "Loss: 116.9\n",
      "()\n"
     ]
    }
   ],
   "source": [
    "# =============================== TRAINING ====================================\n",
    "i = 0\n",
    "max_iter = 20000\n",
    "\n",
    "for it in range(max_iter):\n",
    "    X_mb, _ = mnist.train.next_batch(mb_size)\n",
    "\n",
    "    _, loss = sess.run([solver, vae_loss], feed_dict={X: X_mb})\n",
    "\n",
    "    if it % 1000 == 0:\n",
    "        print('Iter: {}'.format(it))\n",
    "        print('Loss: {:.4}'. format(loss))\n",
    "        print()\n",
    "\n",
    "        samples = sess.run(X_samples, feed_dict={z: np.random.randn(16, z_dim)})\n",
    "\n",
    "        fig = plot(samples)\n",
    "        plt.savefig('out/{}.png'.format(str(i).zfill(3)), bbox_inches='tight')\n",
    "        i += 1\n",
    "        plt.close(fig)"
   ]
  },
  {
   "cell_type": "markdown",
   "metadata": {},
   "source": [
    "## Check that VAE can Reconstruct GT"
   ]
  },
  {
   "cell_type": "code",
   "execution_count": 27,
   "metadata": {},
   "outputs": [
    {
     "data": {
      "image/png": "[encoded data removed]",
      "text/plain": [
       "<matplotlib.figure.Figure at 0x13441b410>"
      ]
     },
     "metadata": {},
     "output_type": "display_data"
    },
    {
     "data": {
      "image/png": "[encoded data removed]",
      "text/plain": [
       "<matplotlib.figure.Figure at 0x118829c10>"
      ]
     },
     "metadata": {},
     "output_type": "display_data"
    }
   ],
   "source": [
    "plt.close('all')\n",
    "%matplotlib inline\n",
    "\n",
    "num_checks = 2\n",
    "x_gt, _ = mnist.train.next_batch(num_checks)\n",
    "plot(x_gt)\n",
    "plot(P(Q(x_gt)[0])[0].eval())\n",
    "_ = 1 # prevent repeated plot in jupyter"
   ]
  },
  {
   "cell_type": "code",
   "execution_count": 28,
   "metadata": {
    "collapsed": true
   },
   "outputs": [],
   "source": [
    "def init_uninited_vars():\n",
    "    unint_vars = []\n",
    "    for var in tf.global_variables():\n",
    "        if not tf.is_variable_initialized(var).eval():\n",
    "            unint_vars.append(var)\n",
    "    missingVarInit = tf.variables_initializer (unint_vars)\n",
    "    sess.run(missingVarInit)"
   ]
  },
  {
   "cell_type": "markdown",
   "metadata": {},
   "source": [
    "## HMC Inference"
   ]
  },
  {
   "cell_type": "code",
   "execution_count": 29,
   "metadata": {},
   "outputs": [
    {
     "data": {
      "image/png": "[encoded data removed]",
      "text/plain": [
       "<matplotlib.figure.Figure at 0x13449ed90>"
      ]
     },
     "metadata": {},
     "output_type": "display_data"
    }
   ],
   "source": [
    "%matplotlib inline\n",
    "\n",
    "inference_batch_size = 1\n",
    "x_gt, _ = mnist.train.next_batch(inference_batch_size)\n",
    "plot(x_gt)\n",
    "\n",
    "T = 20000 # number of empirical samples in posterior\n",
    "img_dim = 28\n",
    "hmc_steps = T\n",
    "leap_steps = 10\n",
    "# print x_gt\n",
    "# z = Normal(loc=tf.zeros([inference_batch_size, z_dim]), scale=tf.ones([inference_batch_size, z_dim])) # sample z\n",
    "z = Normal(loc=Q(x_gt)[0], scale=tf.ones([inference_batch_size, z_dim])) # sample z\n",
    "\n",
    "normalized_dec_x, dec_x_logits = P(z)\n",
    "# print dec_x_logits.shape\n",
    "\n",
    "X = Normal(loc=normalized_dec_x, scale=tf.ones([1, 28*28])/2.75)\n",
    "  \n",
    "# X = Normal(loc=dec_x, scale=tf.ones(img_dim)*sig) # likelihood distrib\n",
    "qz = Empirical(params=tf.Variable(tf.zeros([T, inference_batch_size, z_dim])))\n",
    "\n",
    "inference = ed.HMC({z: qz}, data={X: x_gt})\n",
    "\n",
    "# inference.initialize(step_size=0.05, n_steps=leap_steps)\n",
    "inference.initialize()\n",
    "init_uninited_vars()"
   ]
  },
  {
   "cell_type": "code",
   "execution_count": 30,
   "metadata": {},
   "outputs": [
    {
     "data": {
      "image/png": "[encoded data removed]",
      "text/plain": [
       "<matplotlib.figure.Figure at 0x135109d50>"
      ]
     },
     "metadata": {},
     "output_type": "display_data"
    }
   ],
   "source": [
    "plt.plot(tf.squeeze(qz.params, 1).eval());"
   ]
  },
  {
   "cell_type": "code",
   "execution_count": 31,
   "metadata": {},
   "outputs": [
    {
     "name": "stdout",
     "output_type": "stream",
     "text": [
      "20000/20000 [100%] ██████████████████████████████ Elapsed: 69s | Acceptance Rate: 0.015\n"
     ]
    }
   ],
   "source": [
    "for i in range(hmc_steps):\n",
    "    info_dict = inference.update()\n",
    "    inference.print_progress(info_dict)\n",
    "\n",
    "# inference.finalize()\n",
    "# inference.run(variables=[], n_steps=hmc_steps)"
   ]
  },
  {
   "cell_type": "code",
   "execution_count": 32,
   "metadata": {},
   "outputs": [
    {
     "data": {
      "image/png": "[encoded data removed]",
      "text/plain": [
       "<matplotlib.figure.Figure at 0x122337dd0>"
      ]
     },
     "execution_count": 32,
     "metadata": {},
     "output_type": "execute_result"
    },
    {
     "data": {
      "image/png": "[encoded data removed]",
      "text/plain": [
       "<matplotlib.figure.Figure at 0x122337dd0>"
      ]
     },
     "metadata": {},
     "output_type": "display_data"
    }
   ],
   "source": [
    "all_zeros = tf.Variable(tf.zeros([1, z_dim]))\n",
    "sess.run(tf.variables_initializer([all_zeros]))\n",
    "zeros_img, _ = P(all_zeros)\n",
    "plot(zeros_img.eval())"
   ]
  },
  {
   "cell_type": "code",
   "execution_count": 33,
   "metadata": {},
   "outputs": [
    {
     "data": {
      "image/png": "[encoded data removed]",
      "text/plain": [
       "<matplotlib.figure.Figure at 0x128ffe750>"
      ]
     },
     "metadata": {},
     "output_type": "display_data"
    },
    {
     "data": {
      "image/png": "[encoded data removed]",
      "text/plain": [
       "<matplotlib.figure.Figure at 0x1295abc90>"
      ]
     },
     "metadata": {},
     "output_type": "display_data"
    }
   ],
   "source": [
    "# inference.update()\n",
    "keep_ratio = 0.2\n",
    "to_keep_index = int((1-keep_ratio)*T)\n",
    "qz_kept = Empirical(qz.params[to_keep_index:])\n",
    "\n",
    "for element in range(inference_batch_size):\n",
    "    z_test = qz_kept.sample(1)[:,element]\n",
    "    img, _ = P(z_test)\n",
    "    plot([x_gt[element]])\n",
    "    plot(img.eval())"
   ]
  },
  {
   "cell_type": "markdown",
   "metadata": {},
   "source": [
    "## Sample from Posterior and Reconstruct Image"
   ]
  },
  {
   "cell_type": "code",
   "execution_count": 34,
   "metadata": {},
   "outputs": [
    {
     "data": {
      "image/png": "[encoded data removed]",
      "text/plain": [
       "<matplotlib.figure.Figure at 0x1296a4ad0>"
      ]
     },
     "execution_count": 34,
     "metadata": {},
     "output_type": "execute_result"
    },
    {
     "data": {
      "image/png": "[encoded data removed]",
      "text/plain": [
       "<matplotlib.figure.Figure at 0x129680550>"
      ]
     },
     "metadata": {},
     "output_type": "display_data"
    },
    {
     "data": {
      "image/png": "[encoded data removed]",
      "text/plain": [
       "<matplotlib.figure.Figure at 0x128d7da50>"
      ]
     },
     "metadata": {},
     "output_type": "display_data"
    },
    {
     "data": {
      "image/png": "[encoded data removed]",
      "text/plain": [
       "<matplotlib.figure.Figure at 0x129b85410>"
      ]
     },
     "metadata": {},
     "output_type": "display_data"
    },
    {
     "data": {
      "image/png": "[encoded data removed]",
      "text/plain": [
       "<matplotlib.figure.Figure at 0x1297d5c10>"
      ]
     },
     "metadata": {},
     "output_type": "display_data"
    },
    {
     "data": {
      "image/png": "[encoded data removed]",
      "text/plain": [
       "<matplotlib.figure.Figure at 0x125f74dd0>"
      ]
     },
     "metadata": {},
     "output_type": "display_data"
    },
    {
     "data": {
      "image/png": "[encoded data removed]",
      "text/plain": [
       "<matplotlib.figure.Figure at 0x1296a4ad0>"
      ]
     },
     "metadata": {},
     "output_type": "display_data"
    }
   ],
   "source": [
    "sample_to_vis = 5\n",
    "qz_sample = qz_kept.sample(sample_to_vis)\n",
    "\n",
    "for i in range(sample_to_vis):\n",
    "    img, _ = P(qz_sample[i])\n",
    "    plot(img.eval())\n",
    "    \n",
    "avg_img, _ = P(tf.reduce_mean(qz_sample, 0))\n",
    "plot(avg_img.eval())"
   ]
  },
  {
   "cell_type": "code",
   "execution_count": 35,
   "metadata": {
    "collapsed": true
   },
   "outputs": [],
   "source": [
    "def l2_loss(x_gt,z_hmc):\n",
    "    return tf.norm(x_gt-P(z_hmc)[0]).eval()\n",
    "\n",
    "def recon_loss(x_gt,z_hmc): \n",
    "    return tf.reduce_sum(tf.nn.sigmoid_cross_entropy_with_logits(logits=P(z_hmc)[1], labels=x_gt), 1).eval()"
   ]
  },
  {
   "cell_type": "code",
   "execution_count": 36,
   "metadata": {},
   "outputs": [
    {
     "name": "stdout",
     "output_type": "stream",
     "text": [
      "[ 77.63661194]\n",
      "2.90501\n",
      "-----samples------\n",
      "[ 74.44851685]\n",
      "2.63861\n",
      "-------------\n",
      "yay\n",
      "[ 70.53371429]\n",
      "2.53702\n",
      "-------------\n",
      "[ 72.29724884]\n",
      "2.58512\n",
      "-------------\n",
      "[ 70.85827637]\n",
      "2.48058\n",
      "-------------\n",
      "[ 70.85827637]\n",
      "2.48058\n",
      "-------------\n",
      "[ 74.39810944]\n",
      "2.72077\n",
      "-------------\n",
      "yay\n",
      "[ 67.70166016]\n",
      "2.25873\n",
      "-------------\n",
      "[ 70.53371429]\n",
      "2.53702\n",
      "-------------\n",
      "[ 81.92434692]\n",
      "2.91068\n",
      "-------------\n",
      "[ 77.1995163]\n",
      "2.85207\n",
      "-------------\n",
      "yay\n",
      "[ 67.6769104]\n",
      "2.31416\n",
      "-------------\n",
      "[ 72.64096832]\n",
      "2.56609\n",
      "-------------\n",
      "[ 78.17019653]\n",
      "2.81727\n",
      "-------------\n",
      "[ 69.5875473]\n",
      "2.3517\n",
      "-------------\n",
      "[ 67.70166016]\n",
      "2.25873\n",
      "-------------\n",
      "[ 69.97383118]\n",
      "2.47163\n",
      "-------------\n",
      "[ 70.32315826]\n",
      "2.43491\n",
      "-------------\n",
      "[ 74.39810944]\n",
      "2.72077\n",
      "-------------\n",
      "[ 69.0663147]\n",
      "2.33377\n",
      "-------------\n",
      "[ 70.21512604]\n",
      "2.46892\n",
      "-------------\n",
      "[ 72.64096832]\n",
      "2.56609\n",
      "-------------\n",
      "[ 76.6844101]\n",
      "2.76188\n",
      "-------------\n",
      "[ 72.64096832]\n",
      "2.56609\n",
      "-------------\n",
      "[ 68.75498962]\n",
      "2.30033\n",
      "-------------\n",
      "[ 72.64096832]\n",
      "2.56609\n",
      "-------------\n",
      "[ 78.17019653]\n",
      "2.81727\n",
      "-------------\n",
      "[ 74.38925171]\n",
      "2.76246\n",
      "-------------\n",
      "[ 69.0663147]\n",
      "2.33377\n",
      "-------------\n",
      "[ 69.5875473]\n",
      "2.3517\n",
      "-------------\n",
      "[ 71.17236328]\n",
      "2.42253\n",
      "-------------\n",
      "[ 67.70166016]\n",
      "2.25873\n",
      "-------------\n",
      "[ 70.53371429]\n",
      "2.53702\n",
      "-------------\n",
      "[ 68.75498962]\n",
      "2.30033\n",
      "-------------\n",
      "[ 70.11545563]\n",
      "2.40334\n",
      "-------------\n",
      "[ 67.6769104]\n",
      "2.31416\n",
      "-------------\n",
      "[ 72.5843811]\n",
      "2.59473\n",
      "-------------\n",
      "[ 70.53371429]\n",
      "2.53702\n",
      "-------------\n",
      "[ 78.17019653]\n",
      "2.81727\n",
      "-------------\n",
      "[ 72.64096832]\n",
      "2.56609\n",
      "-------------\n",
      "[ 74.87701416]\n",
      "2.72078\n",
      "-------------\n",
      "[ 72.40206146]\n",
      "2.53778\n",
      "-------------\n",
      "[ 70.33111572]\n",
      "2.44318\n",
      "-------------\n",
      "[ 74.39810944]\n",
      "2.72077\n",
      "-------------\n",
      "[ 71.17236328]\n",
      "2.42253\n",
      "-------------\n",
      "[ 68.10137939]\n",
      "2.35031\n",
      "-------------\n",
      "[ 78.80241394]\n",
      "2.88505\n",
      "-------------\n",
      "[ 72.29724884]\n",
      "2.58512\n",
      "-------------\n",
      "[ 75.87499237]\n",
      "2.72598\n",
      "-------------\n",
      "[ 69.5875473]\n",
      "2.3517\n",
      "-------------\n",
      "[ 70.33111572]\n",
      "2.44318\n",
      "-------------\n",
      "[ 71.01428986]\n",
      "2.51851\n",
      "-------------\n",
      "[ 78.17019653]\n",
      "2.81727\n",
      "-------------\n",
      "[ 69.5875473]\n",
      "2.3517\n",
      "-------------\n",
      "[ 72.73039246]\n",
      "2.65997\n",
      "-------------\n",
      "[ 74.44851685]\n",
      "2.63861\n",
      "-------------\n",
      "[ 72.25632477]\n",
      "2.57449\n",
      "-------------\n",
      "[ 70.53371429]\n",
      "2.53702\n",
      "-------------\n",
      "[ 76.57020569]\n",
      "2.89145\n",
      "-------------\n",
      "[ 69.51287842]\n",
      "2.4716\n",
      "-------------\n",
      "[ 72.64096832]\n",
      "2.56609\n",
      "-------------\n",
      "[ 69.51287842]\n",
      "2.4716\n",
      "-------------\n",
      "[ 67.70166016]\n",
      "2.25873\n",
      "-------------\n",
      "[ 70.53371429]\n",
      "2.53702\n",
      "-------------\n",
      "[ 67.70166016]\n",
      "2.25873\n",
      "-------------\n",
      "[ 70.11545563]\n",
      "2.40334\n",
      "-------------\n",
      "[ 67.70166016]\n",
      "2.25873\n",
      "-------------\n",
      "[ 71.17236328]\n",
      "2.42253\n",
      "-------------\n",
      "[ 74.12927246]\n",
      "2.64199\n",
      "-------------\n",
      "[ 69.5875473]\n",
      "2.3517\n",
      "-------------\n",
      "[ 71.95129395]\n",
      "2.55393\n",
      "-------------\n",
      "[ 74.12927246]\n",
      "2.64199\n",
      "-------------\n",
      "[ 74.02728271]\n",
      "2.63441\n",
      "-------------\n",
      "[ 67.70166016]\n",
      "2.25873\n",
      "-------------\n",
      "[ 70.53371429]\n",
      "2.53702\n",
      "-------------\n",
      "[ 71.95129395]\n",
      "2.55393\n",
      "-------------\n",
      "[ 71.95129395]\n",
      "2.55393\n",
      "-------------\n",
      "[ 70.33111572]\n",
      "2.44318\n",
      "-------------\n",
      "[ 68.10137939]\n",
      "2.35031\n",
      "-------------\n",
      "[ 71.01428986]\n",
      "2.51851\n",
      "-------------\n",
      "[ 72.64096832]\n",
      "2.56609\n",
      "-------------\n",
      "[ 68.75498962]\n",
      "2.30033\n",
      "-------------\n",
      "[ 70.85827637]\n",
      "2.48058\n",
      "-------------\n",
      "[ 72.80851746]\n",
      "2.58457\n",
      "-------------\n",
      "[ 74.12927246]\n",
      "2.64199\n",
      "-------------\n",
      "[ 73.89183044]\n",
      "2.63133\n",
      "-------------\n",
      "[ 74.39810944]\n",
      "2.72077\n",
      "-------------\n",
      "[ 74.12927246]\n",
      "2.64199\n",
      "-------------\n",
      "[ 74.12927246]\n",
      "2.64199\n",
      "-------------\n",
      "[ 69.5875473]\n",
      "2.3517\n",
      "-------------\n",
      "[ 69.5875473]\n",
      "2.3517\n",
      "-------------\n",
      "[ 70.85827637]\n",
      "2.48058\n",
      "-------------\n",
      "[ 72.25632477]\n",
      "2.57449\n",
      "-------------\n",
      "[ 69.5875473]\n",
      "2.3517\n",
      "-------------\n",
      "[ 74.39810944]\n",
      "2.72077\n",
      "-------------\n",
      "[ 76.10646057]\n",
      "2.76166\n",
      "-------------\n",
      "[ 74.12927246]\n",
      "2.64199\n",
      "-------------\n",
      "[ 74.12927246]\n",
      "2.64199\n",
      "-------------\n",
      "[ 71.17236328]\n",
      "2.42253\n",
      "-------------\n",
      "[ 70.33111572]\n",
      "2.44318\n",
      "-------------\n",
      "[ 70.53371429]\n",
      "2.53702\n",
      "-------------\n"
     ]
    }
   ],
   "source": [
    "num_to_best = 100\n",
    "\n",
    "print recon_loss(x_gt,Q(x_gt)[0])\n",
    "print l2_loss(x_gt,Q(x_gt)[0])\n",
    "print \"-----samples------\"\n",
    "\n",
    "samples_to_check = qz_kept.sample(num_to_best).eval()\n",
    "\n",
    "best_sample = samples_to_check[0]\n",
    "\n",
    "for sample in samples_to_check:\n",
    "    \n",
    "#     print recon_loss(x_gt,this_sample)\n",
    "    if recon_loss(x_gt,sample)<recon_loss(x_gt,best_sample):\n",
    "        best_sample = sample\n",
    "        print 'yay'\n",
    "    print recon_loss(x_gt,sample)\n",
    "    print l2_loss(x_gt,sample)\n",
    "    print \"-------------\""
   ]
  },
  {
   "cell_type": "code",
   "execution_count": 37,
   "metadata": {},
   "outputs": [
    {
     "data": {
      "image/png": "[encoded data removed]",
      "text/plain": [
       "<matplotlib.figure.Figure at 0x129326a10>"
      ]
     },
     "execution_count": 37,
     "metadata": {},
     "output_type": "execute_result"
    },
    {
     "data": {
      "image/png": "[encoded data removed]",
      "text/plain": [
       "<matplotlib.figure.Figure at 0x129326a10>"
      ]
     },
     "metadata": {},
     "output_type": "display_data"
    }
   ],
   "source": [
    "plot(P(best_sample)[0].eval())\n"
   ]
  },
  {
   "cell_type": "code",
   "execution_count": 38,
   "metadata": {},
   "outputs": [
    {
     "data": {
      "image/png": "[encoded data removed]",
      "text/plain": [
       "<matplotlib.figure.Figure at 0x141d2c1d0>"
      ]
     },
     "execution_count": 38,
     "metadata": {},
     "output_type": "execute_result"
    },
    {
     "data": {
      "image/png": "[encoded data removed]",
      "text/plain": [
       "<matplotlib.figure.Figure at 0x141d2c1d0>"
      ]
     },
     "metadata": {},
     "output_type": "display_data"
    }
   ],
   "source": [
    "plot(x_gt)\n"
   ]
  },
  {
   "cell_type": "code",
   "execution_count": 42,
   "metadata": {},
   "outputs": [
    {
     "data": {
      "image/png": "[encoded data removed]",
      "text/plain": [
       "<matplotlib.figure.Figure at 0x13ae9a4d0>"
      ]
     },
     "execution_count": 42,
     "metadata": {},
     "output_type": "execute_result"
    },
    {
     "data": {
      "image/png": "[encoded data removed]",
      "text/plain": [
       "<matplotlib.figure.Figure at 0x13ae9a4d0>"
      ]
     },
     "metadata": {},
     "output_type": "display_data"
    }
   ],
   "source": [
    "plot(P(Q(x_gt)[0])[0].eval())"
   ]
  },
  {
   "cell_type": "code",
   "execution_count": 41,
   "metadata": {},
   "outputs": [
    {
     "ename": "AttributeError",
     "evalue": "'numpy.ndarray' object has no attribute 'eval'",
     "output_type": "error",
     "traceback": [
      "\u001b[0;31m---------------------------------------------------------------------------\u001b[0m",
      "\u001b[0;31mAttributeError\u001b[0m                            Traceback (most recent call last)",
      "\u001b[0;32m<ipython-input-41-afa5d87fe888>\u001b[0m in \u001b[0;36m<module>\u001b[0;34m()\u001b[0m\n\u001b[0;32m----> 1\u001b[0;31m \u001b[0mbest_sample\u001b[0m\u001b[0;34m.\u001b[0m\u001b[0meval\u001b[0m\u001b[0;34m(\u001b[0m\u001b[0;34m)\u001b[0m\u001b[0;34m\u001b[0m\u001b[0m\n\u001b[0m",
      "\u001b[0;31mAttributeError\u001b[0m: 'numpy.ndarray' object has no attribute 'eval'"
     ]
    }
   ],
   "source": [
    "best_sample.eval()"
   ]
  },
  {
   "cell_type": "code",
   "execution_count": 43,
   "metadata": {
    "collapsed": true
   },
   "outputs": [],
   "source": [
    "stored = qz_kept.sample(4)[:].eval()"
   ]
  },
  {
   "cell_type": "code",
   "execution_count": 44,
   "metadata": {},
   "outputs": [
    {
     "ename": "NotImplementedError",
     "evalue": "prob is not implemented",
     "output_type": "error",
     "traceback": [
      "\u001b[0;31m---------------------------------------------------------------------------\u001b[0m",
      "\u001b[0;31mNotImplementedError\u001b[0m                       Traceback (most recent call last)",
      "\u001b[0;32m<ipython-input-44-d2a163c1ac29>\u001b[0m in \u001b[0;36m<module>\u001b[0;34m()\u001b[0m\n\u001b[0;32m----> 1\u001b[0;31m \u001b[0mqz_kept\u001b[0m\u001b[0;34m.\u001b[0m\u001b[0mprob\u001b[0m\u001b[0;34m(\u001b[0m\u001b[0mQ\u001b[0m\u001b[0;34m(\u001b[0m\u001b[0mx_gt\u001b[0m\u001b[0;34m)\u001b[0m\u001b[0;34m[\u001b[0m\u001b[0;36m0\u001b[0m\u001b[0;34m]\u001b[0m\u001b[0;34m)\u001b[0m\u001b[0;34m\u001b[0m\u001b[0m\n\u001b[0m",
      "\u001b[0;32m/Users/harrischan/anaconda/envs/tensorflow/lib/python2.7/site-packages/tensorflow/python/ops/distributions/distribution.pyc\u001b[0m in \u001b[0;36mprob\u001b[0;34m(self, value, name)\u001b[0m\n\u001b[1;32m    717\u001b[0m         \u001b[0mvalues\u001b[0m \u001b[0mof\u001b[0m \u001b[0mtype\u001b[0m \u001b[0;34m`\u001b[0m\u001b[0mself\u001b[0m\u001b[0;34m.\u001b[0m\u001b[0mdtype\u001b[0m\u001b[0;34m`\u001b[0m\u001b[0;34m.\u001b[0m\u001b[0;34m\u001b[0m\u001b[0m\n\u001b[1;32m    718\u001b[0m     \"\"\"\n\u001b[0;32m--> 719\u001b[0;31m     \u001b[0;32mreturn\u001b[0m \u001b[0mself\u001b[0m\u001b[0;34m.\u001b[0m\u001b[0m_call_prob\u001b[0m\u001b[0;34m(\u001b[0m\u001b[0mvalue\u001b[0m\u001b[0;34m,\u001b[0m \u001b[0mname\u001b[0m\u001b[0;34m)\u001b[0m\u001b[0;34m\u001b[0m\u001b[0m\n\u001b[0m\u001b[1;32m    720\u001b[0m \u001b[0;34m\u001b[0m\u001b[0m\n\u001b[1;32m    721\u001b[0m   \u001b[0;32mdef\u001b[0m \u001b[0m_log_cdf\u001b[0m\u001b[0;34m(\u001b[0m\u001b[0mself\u001b[0m\u001b[0;34m,\u001b[0m \u001b[0mvalue\u001b[0m\u001b[0;34m)\u001b[0m\u001b[0;34m:\u001b[0m\u001b[0;34m\u001b[0m\u001b[0m\n",
      "\u001b[0;32m/Users/harrischan/anaconda/envs/tensorflow/lib/python2.7/site-packages/tensorflow/python/ops/distributions/distribution.pyc\u001b[0m in \u001b[0;36m_call_prob\u001b[0;34m(self, value, name, **kwargs)\u001b[0m\n\u001b[1;32m    704\u001b[0m           \u001b[0;32mreturn\u001b[0m \u001b[0mmath_ops\u001b[0m\u001b[0;34m.\u001b[0m\u001b[0mexp\u001b[0m\u001b[0;34m(\u001b[0m\u001b[0mself\u001b[0m\u001b[0;34m.\u001b[0m\u001b[0m_log_prob\u001b[0m\u001b[0;34m(\u001b[0m\u001b[0mvalue\u001b[0m\u001b[0;34m,\u001b[0m \u001b[0;34m**\u001b[0m\u001b[0mkwargs\u001b[0m\u001b[0;34m)\u001b[0m\u001b[0;34m)\u001b[0m\u001b[0;34m\u001b[0m\u001b[0m\n\u001b[1;32m    705\u001b[0m         \u001b[0;32mexcept\u001b[0m \u001b[0mNotImplementedError\u001b[0m\u001b[0;34m:\u001b[0m\u001b[0;34m\u001b[0m\u001b[0m\n\u001b[0;32m--> 706\u001b[0;31m           \u001b[0;32mraise\u001b[0m \u001b[0moriginal_exception\u001b[0m\u001b[0;34m\u001b[0m\u001b[0m\n\u001b[0m\u001b[1;32m    707\u001b[0m \u001b[0;34m\u001b[0m\u001b[0m\n\u001b[1;32m    708\u001b[0m   \u001b[0;32mdef\u001b[0m \u001b[0mprob\u001b[0m\u001b[0;34m(\u001b[0m\u001b[0mself\u001b[0m\u001b[0;34m,\u001b[0m \u001b[0mvalue\u001b[0m\u001b[0;34m,\u001b[0m \u001b[0mname\u001b[0m\u001b[0;34m=\u001b[0m\u001b[0;34m\"prob\"\u001b[0m\u001b[0;34m)\u001b[0m\u001b[0;34m:\u001b[0m\u001b[0;34m\u001b[0m\u001b[0m\n",
      "\u001b[0;31mNotImplementedError\u001b[0m: prob is not implemented"
     ]
    }
   ],
   "source": [
    "qz_kept.prob(Q(x_gt)[0])"
   ]
  },
  {
   "cell_type": "code",
   "execution_count": 45,
   "metadata": {},
   "outputs": [
    {
     "data": {
      "text/plain": [
       "<tf.Tensor 'encoder_14/add_1:0' shape=(1, 100) dtype=float32>"
      ]
     },
     "execution_count": 45,
     "metadata": {},
     "output_type": "execute_result"
    }
   ],
   "source": [
    "Q(x_gt)[0]"
   ]
  },
  {
   "cell_type": "markdown",
   "metadata": {
    "collapsed": true
   },
   "source": [
    "# Visualizing Latent Stuff"
   ]
  },
  {
   "cell_type": "code",
   "execution_count": 46,
   "metadata": {},
   "outputs": [
    {
     "data": {
      "text/plain": [
       "array([[ 0.40365155,  0.06989891]])"
      ]
     },
     "execution_count": 46,
     "metadata": {},
     "output_type": "execute_result"
    }
   ],
   "source": [
    "dims = [0,1]\n",
    "\n",
    "# hmc\n",
    "num_samples = 500\n",
    "hmc_samples = qz.sample(num_samples).eval()[:,:,dims]\n",
    "hmc_samples = hmc_samples.reshape(num_samples,2)\n",
    "\n",
    "# vae\n",
    "z_mu, z_logvar = Q(x_gt)\n",
    "z_mu, z_logvar = z_mu.eval()[:,dims], z_logvar.eval()[:,dims]\n",
    "z_sig = np.sqrt(np.exp(z_logvar))\n",
    "\n",
    "\n",
    "import matplotlib.mlab as mlab\n",
    "\n",
    "def z_pdf(x):\n",
    "    return mlab.normpdf(x, z_mu, z_sig)\n",
    "\n",
    "z_pdf([0,0])\n"
   ]
  },
  {
   "cell_type": "code",
   "execution_count": 47,
   "metadata": {},
   "outputs": [
    {
     "data": {
      "text/plain": [
       "<matplotlib.collections.PathCollection at 0x146403fd0>"
      ]
     },
     "execution_count": 47,
     "metadata": {},
     "output_type": "execute_result"
    },
    {
     "data": {
      "image/png": "[encoded data removed]",
      "text/plain": [
       "<matplotlib.figure.Figure at 0x11cac49d0>"
      ]
     },
     "metadata": {},
     "output_type": "display_data"
    }
   ],
   "source": [
    "plt.scatter(hmc_samples[:,0],hmc_samples[:,1])\n",
    "\n",
    "delta = 0.025\n",
    "x = np.arange(-3.0, 3.0, delta)\n",
    "y = np.arange(-2.0, 2.0, delta)\n",
    "X, Y = np.meshgrid(x, y)\n",
    "# Z = \n",
    "\n",
    "plt.scatter(z_mu[:,0],z_mu[:,1],c='red')"
   ]
  },
  {
   "cell_type": "code",
   "execution_count": 48,
   "metadata": {},
   "outputs": [
    {
     "name": "stdout",
     "output_type": "stream",
     "text": [
      "[[-0.01433733 -0.9179365 ]]\n",
      "RandomVariable(\"Normal_3/\", shape=(1, 100), dtype=float32)\n"
     ]
    }
   ],
   "source": [
    "print z_mu\n",
    "print z"
   ]
  },
  {
   "cell_type": "code",
   "execution_count": 49,
   "metadata": {},
   "outputs": [
    {
     "ename": "NameError",
     "evalue": "name 'example' is not defined",
     "output_type": "error",
     "traceback": [
      "\u001b[0;31m---------------------------------------------------------------------------\u001b[0m",
      "\u001b[0;31mNameError\u001b[0m                                 Traceback (most recent call last)",
      "\u001b[0;32m<ipython-input-49-bb551c7094c7>\u001b[0m in \u001b[0;36m<module>\u001b[0;34m()\u001b[0m\n\u001b[0;32m----> 1\u001b[0;31m \u001b[0mexample\u001b[0m\u001b[0;34m[\u001b[0m\u001b[0;34m:\u001b[0m\u001b[0;34m,\u001b[0m\u001b[0;34m:\u001b[0m\u001b[0;34m,\u001b[0m\u001b[0mdims\u001b[0m\u001b[0;34m]\u001b[0m\u001b[0;34m\u001b[0m\u001b[0m\n\u001b[0m",
      "\u001b[0;31mNameError\u001b[0m: name 'example' is not defined"
     ]
    }
   ],
   "source": [
    "example[:,:,dims]"
   ]
  },
  {
   "cell_type": "code",
   "execution_count": 50,
   "metadata": {},
   "outputs": [
    {
     "ename": "ValueError",
     "evalue": "cannot reshape array of size 1000 into shape (100,2)",
     "output_type": "error",
     "traceback": [
      "\u001b[0;31m---------------------------------------------------------------------------\u001b[0m",
      "\u001b[0;31mValueError\u001b[0m                                Traceback (most recent call last)",
      "\u001b[0;32m<ipython-input-50-4cb86df8473f>\u001b[0m in \u001b[0;36m<module>\u001b[0;34m()\u001b[0m\n\u001b[0;32m----> 1\u001b[0;31m \u001b[0mhmc_samples\u001b[0m\u001b[0;34m.\u001b[0m\u001b[0mreshape\u001b[0m\u001b[0;34m(\u001b[0m\u001b[0;36m100\u001b[0m\u001b[0;34m,\u001b[0m\u001b[0;36m2\u001b[0m\u001b[0;34m)\u001b[0m\u001b[0;34m\u001b[0m\u001b[0m\n\u001b[0m",
      "\u001b[0;31mValueError\u001b[0m: cannot reshape array of size 1000 into shape (100,2)"
     ]
    }
   ],
   "source": [
    "hmc_samples.reshape(100,2)"
   ]
  },
  {
   "cell_type": "markdown",
   "metadata": {},
   "source": [
    "## Using PCA to visualize latent dimensions"
   ]
  },
  {
   "cell_type": "code",
   "execution_count": 55,
   "metadata": {},
   "outputs": [],
   "source": [
    "from sklearn.decomposition import PCA\n",
    "pca = PCA(n_components=2)\n",
    "hmc_trans = pca.fit_transform(hmc_samples)"
   ]
  },
  {
   "cell_type": "code",
   "execution_count": 61,
   "metadata": {},
   "outputs": [
    {
     "name": "stdout",
     "output_type": "stream",
     "text": [
      "[[ 0.01857953  0.01106467]]\n"
     ]
    },
    {
     "data": {
      "text/plain": [
       "<matplotlib.collections.PathCollection at 0x143f6ccd0>"
      ]
     },
     "execution_count": 61,
     "metadata": {},
     "output_type": "execute_result"
    },
    {
     "data": {
      "image/png": "[encoded data removed]",
      "text/plain": [
       "<matplotlib.figure.Figure at 0x1450f56d0>"
      ]
     },
     "metadata": {},
     "output_type": "display_data"
    }
   ],
   "source": [
    "# Plot the HMC samples vs VAE samples\n",
    "plt.scatter(hmc_trans[:,0],hmc_trans[:,1])\n",
    "z_mu_transform = pca.transform(z_mu)\n",
    "print z_mu_transform\n",
    "plt.scatter(z_mu_transform[:,0],z_mu_transform[:,1],c='red')"
   ]
  },
  {
   "cell_type": "code",
   "execution_count": null,
   "metadata": {
    "collapsed": true
   },
   "outputs": [],
   "source": []
  }
 ],
 "metadata": {
  "_draft": {
   "nbviewer_url": "https://gist.github.com/9ee7dcdeddd2116db9ffee9613bf0ab0"
  },
  "gist": {
   "data": {
    "description": "HMC_VAE.ipynb",
    "public": true
   },
   "id": "9ee7dcdeddd2116db9ffee9613bf0ab0"
  },
  "kernelspec": {
   "display_name": "Python 2",
   "language": "python",
   "name": "python2"
  },
  "language_info": {
   "codemirror_mode": {
    "name": "ipython",
    "version": 2
   },
   "file_extension": ".py",
   "mimetype": "text/x-python",
   "name": "python",
   "nbconvert_exporter": "python",
   "pygments_lexer": "ipython2",
   "version": "2.7.12"
  },
  "varInspector": {
   "cols": {
    "lenName": 16,
    "lenType": 16,
    "lenVar": 40
   },
   "kernels_config": {
    "python": {
     "delete_cmd_postfix": "",
     "delete_cmd_prefix": "del ",
     "library": "var_list.py",
     "varRefreshCmd": "print(var_dic_list())"
    },
    "r": {
     "delete_cmd_postfix": ") ",
     "delete_cmd_prefix": "rm(",
     "library": "var_list.r",
     "varRefreshCmd": "cat(var_dic_list()) "
    }
   },
   "types_to_exclude": [
    "module",
    "function",
    "builtin_function_or_method",
    "instance",
    "_Feature"
   ],
   "window_display": false
  }
 },
 "nbformat": 4,
 "nbformat_minor": 2
}
