{
 "cells": [
  {
   "cell_type": "code",
   "execution_count": 1,
   "metadata": {
    "collapsed": true
   },
   "outputs": [],
   "source": [
    "import tensorflow as tf\n",
    "import numpy as np\n",
    "import matplotlib.pyplot as plt\n",
    "import matplotlib.gridspec as gridspec\n",
    "import os\n",
    "from tensorflow.examples.tutorials.mnist import input_data\n",
    "\n",
    "from edward.models import Normal, Bernoulli, Empirical\n",
    "import edward as ed"
   ]
  },
  {
   "cell_type": "code",
   "execution_count": 2,
   "metadata": {
    "collapsed": false
   },
   "outputs": [
    {
     "name": "stdout",
     "output_type": "stream",
     "text": [
      "Extracting ./MNIST_data/train-images-idx3-ubyte.gz\n",
      "Extracting ./MNIST_data/train-labels-idx1-ubyte.gz\n",
      "Extracting ./MNIST_data/t10k-images-idx3-ubyte.gz\n",
      "Extracting ./MNIST_data/t10k-labels-idx1-ubyte.gz\n"
     ]
    }
   ],
   "source": [
    "mnist = input_data.read_data_sets('./MNIST_data', one_hot=True)\n",
    "mb_size = 64\n",
    "z_dim = 100\n",
    "X_dim = mnist.train.images.shape[1]\n",
    "y_dim = mnist.train.labels.shape[1]\n",
    "h_dim = 128\n",
    "c = 0\n",
    "lr = 1e-3"
   ]
  },
  {
   "cell_type": "code",
   "execution_count": 3,
   "metadata": {
    "collapsed": true
   },
   "outputs": [],
   "source": [
    "def plot(samples):\n",
    "    fig = plt.figure(figsize=(4, 4))\n",
    "    gs = gridspec.GridSpec(4, 4)\n",
    "    gs.update(wspace=0.05, hspace=0.05)\n",
    "\n",
    "    for i, sample in enumerate(samples):\n",
    "        ax = plt.subplot(gs[i])\n",
    "        plt.axis('off')\n",
    "        ax.set_xticklabels([])\n",
    "        ax.set_yticklabels([])\n",
    "        ax.set_aspect('equal')\n",
    "        plt.imshow(sample.reshape(28, 28), cmap='Greys_r')\n",
    "\n",
    "    return fig\n",
    "\n",
    "\n",
    "def xavier_init(size):\n",
    "    in_dim = size[0]\n",
    "    xavier_stddev = 1. / tf.sqrt(in_dim / 2.)\n",
    "    return tf.random_normal(shape=size, stddev=xavier_stddev)"
   ]
  },
  {
   "cell_type": "code",
   "execution_count": 4,
   "metadata": {
    "collapsed": true
   },
   "outputs": [],
   "source": [
    "# =============================== Q(z|X) Encoder ======================================\n",
    "\n",
    "Q_W1 = tf.Variable(xavier_init([X_dim, h_dim]))\n",
    "Q_b1 = tf.Variable(tf.zeros(shape=[h_dim]))\n",
    "\n",
    "Q_W2_mu = tf.Variable(xavier_init([h_dim, z_dim]))\n",
    "Q_b2_mu = tf.Variable(tf.zeros(shape=[z_dim]))\n",
    "\n",
    "Q_W2_sigma = tf.Variable(xavier_init([h_dim, z_dim]))\n",
    "Q_b2_sigma = tf.Variable(tf.zeros(shape=[z_dim]))\n",
    "\n",
    "\n",
    "def Q(X, reuse=True):\n",
    "    with tf.variable_scope('encoder', reuse=reuse):\n",
    "        h = tf.nn.relu(tf.matmul(X, Q_W1) + Q_b1)\n",
    "        z_mu = tf.matmul(h, Q_W2_mu) + Q_b2_mu\n",
    "        z_logvar = tf.matmul(h, Q_W2_sigma) + Q_b2_sigma\n",
    "        return z_mu, z_logvar\n",
    "\n",
    "# =============================== Sampling Helper ======================================\n",
    "def sample_z(mu, log_var):\n",
    "    eps = tf.random_normal(shape=tf.shape(mu))\n",
    "    return mu + tf.exp(log_var / 2) * eps\n",
    "\n",
    "# =============================== P(X|z) Decoder ======================================\n",
    "\n",
    "P_W1 = tf.Variable(xavier_init([z_dim, h_dim]))\n",
    "P_b1 = tf.Variable(tf.zeros(shape=[h_dim]))\n",
    "\n",
    "P_W2 = tf.Variable(xavier_init([h_dim, X_dim]))\n",
    "P_b2 = tf.Variable(tf.zeros(shape=[X_dim]))\n",
    "\n",
    "\n",
    "def P(z, reuse=True):\n",
    "    with tf.variable_scope('decoder', reuse=reuse):\n",
    "        h = tf.nn.relu(tf.matmul(z, P_W1) + P_b1)\n",
    "        logits = tf.matmul(h, P_W2) + P_b2\n",
    "        prob = tf.nn.sigmoid(logits)\n",
    "        return prob, logits\n",
    "\n"
   ]
  },
  {
   "cell_type": "code",
   "execution_count": 5,
   "metadata": {
    "collapsed": true
   },
   "outputs": [],
   "source": [
    "# =============================== DEFINE LOSS ====================================\n",
    "X = tf.placeholder(tf.float32, shape=[None, X_dim])\n",
    "z = tf.placeholder(tf.float32, shape=[None, z_dim])\n",
    "\n",
    "z_mu, z_logvar = Q(X)\n",
    "z_sample = sample_z(z_mu, z_logvar)\n",
    "_, logits = P(z_sample)\n",
    "\n",
    "# Sampling from random z\n",
    "X_samples, _ = P(z)\n",
    "\n",
    "# E[log P(X|z)]\n",
    "recon_loss = tf.reduce_sum(tf.nn.sigmoid_cross_entropy_with_logits(logits=logits, labels=X), 1)\n",
    "# D_KL(Q(z|X) || P(z)); calculate in closed form as both dist. are Gaussian\n",
    "kl_loss = 0.5 * tf.reduce_sum(tf.exp(z_logvar) + z_mu**2 - 1. - z_logvar, 1)\n",
    "# VAE loss\n",
    "vae_loss = tf.reduce_mean(recon_loss + kl_loss)\n",
    "\n",
    "solver = tf.train.AdamOptimizer().minimize(vae_loss)\n",
    "\n",
    "# sess = tf.Session()\n",
    "sess = ed.get_session() # need to make sure tf and edward share the global session\n",
    "sess.run(tf.global_variables_initializer())\n",
    "\n",
    "if not os.path.exists('out/'):\n",
    "    os.makedirs('out/')"
   ]
  },
  {
   "cell_type": "code",
   "execution_count": 6,
   "metadata": {
    "collapsed": false
   },
   "outputs": [
    {
     "name": "stdout",
     "output_type": "stream",
     "text": [
      "Iter: 0\n",
      "Loss: 768.8\n",
      "()\n",
      "Iter: 1000\n",
      "Loss: 150.7\n",
      "()\n",
      "Iter: 2000\n",
      "Loss: 129.7\n",
      "()\n",
      "Iter: 3000\n",
      "Loss: 119.0\n",
      "()\n",
      "Iter: 4000\n",
      "Loss: 119.2\n",
      "()\n",
      "Iter: 5000\n",
      "Loss: 115.7\n",
      "()\n",
      "Iter: 6000\n",
      "Loss: 117.4\n",
      "()\n",
      "Iter: 7000\n",
      "Loss: 113.7\n",
      "()\n",
      "Iter: 8000\n",
      "Loss: 114.5\n",
      "()\n",
      "Iter: 9000\n",
      "Loss: 110.1\n",
      "()\n",
      "Iter: 10000\n",
      "Loss: 112.4\n",
      "()\n",
      "Iter: 11000\n",
      "Loss: 114.7\n",
      "()\n",
      "Iter: 12000\n",
      "Loss: 111.7\n",
      "()\n",
      "Iter: 13000\n",
      "Loss: 104.4\n",
      "()\n",
      "Iter: 14000\n",
      "Loss: 109.4\n",
      "()\n",
      "Iter: 15000\n",
      "Loss: 109.4\n",
      "()\n",
      "Iter: 16000\n",
      "Loss: 110.4\n",
      "()\n",
      "Iter: 17000\n",
      "Loss: 105.9\n",
      "()\n",
      "Iter: 18000\n",
      "Loss: 111.6\n",
      "()\n",
      "Iter: 19000\n",
      "Loss: 107.6\n",
      "()\n"
     ]
    }
   ],
   "source": [
    "# =============================== TRAINING ====================================\n",
    "i = 0\n",
    "max_iter = 20000\n",
    "\n",
    "for it in range(max_iter):\n",
    "    X_mb, _ = mnist.train.next_batch(mb_size)\n",
    "\n",
    "    _, loss = sess.run([solver, vae_loss], feed_dict={X: X_mb})\n",
    "\n",
    "    if it % 1000 == 0:\n",
    "        print('Iter: {}'.format(it))\n",
    "        print('Loss: {:.4}'. format(loss))\n",
    "        print()\n",
    "\n",
    "        samples = sess.run(X_samples, feed_dict={z: np.random.randn(16, z_dim)})\n",
    "\n",
    "        fig = plot(samples)\n",
    "        plt.savefig('out/{}.png'.format(str(i).zfill(3)), bbox_inches='tight')\n",
    "        i += 1\n",
    "        plt.close(fig)"
   ]
  },
  {
   "cell_type": "markdown",
   "metadata": {},
   "source": [
    "## Check that VAE can Reconstruct GT"
   ]
  },
  {
   "cell_type": "code",
   "execution_count": 8,
   "metadata": {
    "collapsed": false
   },
   "outputs": [
    {
     "data": {
      "image/png": "[encoded data removed]",
      "text/plain": [
       "<matplotlib.figure.Figure at 0x1071f8650>"
      ]
     },
     "metadata": {},
     "output_type": "display_data"
    },
    {
     "data": {
      "image/png": "[encoded data removed]",
      "text/plain": [
       "<matplotlib.figure.Figure at 0x117e1e050>"
      ]
     },
     "metadata": {},
     "output_type": "display_data"
    }
   ],
   "source": [
    "plt.close('all')\n",
    "%matplotlib inline\n",
    "\n",
    "num_checks = 2\n",
    "x_gt, _ = mnist.train.next_batch(num_checks)\n",
    "plot(x_gt)\n",
    "plot(P(Q(x_gt)[0])[0].eval())\n",
    "_ = 1 # prevent repeated plot in jupyter"
   ]
  },
  {
   "cell_type": "code",
   "execution_count": 9,
   "metadata": {
    "collapsed": true
   },
   "outputs": [],
   "source": [
    "def init_uninited_vars():\n",
    "    unint_vars = []\n",
    "    for var in tf.global_variables():\n",
    "        if not tf.is_variable_initialized(var).eval():\n",
    "            unint_vars.append(var)\n",
    "    missingVarInit = tf.variables_initializer (unint_vars)\n",
    "    sess.run(missingVarInit)"
   ]
  },
  {
   "cell_type": "markdown",
   "metadata": {},
   "source": [
    "## HMC Inference"
   ]
  },
  {
   "cell_type": "code",
   "execution_count": 12,
   "metadata": {
    "collapsed": false
   },
   "outputs": [
    {
     "data": {
      "image/png": "[encoded data removed]",
      "text/plain": [
       "<matplotlib.figure.Figure at 0x11c6c5590>"
      ]
     },
     "metadata": {},
     "output_type": "display_data"
    }
   ],
   "source": [
    "%matplotlib inline\n",
    "\n",
    "inference_batch_size = 1\n",
    "x_gt, _ = mnist.train.next_batch(inference_batch_size)\n",
    "plot(x_gt)\n",
    "\n",
    "T = 200000 # number of empirical samples in posterior\n",
    "img_dim = 28\n",
    "hmc_steps = T\n",
    "leap_steps = 10\n",
    "# print x_gt\n",
    "# z = Normal(loc=tf.zeros([inference_batch_size, z_dim]), scale=tf.ones([inference_batch_size, z_dim])) # sample z\n",
    "z = Normal(loc=Q(x_gt)[0], scale=tf.ones([inference_batch_size, z_dim])) # sample z\n",
    "\n",
    "normalized_dec_x, dec_x_logits = P(z)\n",
    "# print dec_x_logits.shape\n",
    "\n",
    "X = Normal(loc=normalized_dec_x, scale=tf.ones([1, 28*28])/3.0)\n",
    "  \n",
    "# X = Normal(loc=dec_x, scale=tf.ones(img_dim)*sig) # likelihood distrib\n",
    "qz = Empirical(params=tf.Variable(tf.zeros([T, inference_batch_size, z_dim])))\n",
    "\n",
    "inference = ed.HMC({z: qz}, data={X: x_gt})\n",
    "\n",
    "# inference.initialize(step_size=0.05, n_steps=leap_steps)\n",
    "inference.initialize()\n",
    "init_uninited_vars()"
   ]
  },
  {
   "cell_type": "code",
   "execution_count": 153,
   "metadata": {
    "collapsed": false
   },
   "outputs": [
    {
     "data": {
      "image/png": "[encoded data removed]",
      "text/plain": [
       "<matplotlib.figure.Figure at 0x132a3afd0>"
      ]
     },
     "metadata": {},
     "output_type": "display_data"
    }
   ],
   "source": [
    "plt.plot(tf.squeeze(qz.params, 1).eval());"
   ]
  },
  {
   "cell_type": "code",
   "execution_count": 13,
   "metadata": {
    "collapsed": false
   },
   "outputs": [
    {
     "name": "stdout",
     "output_type": "stream",
     "text": [
      "200000/200000 [100%] ██████████████████████████████ Elapsed: 225s | Acceptance Rate: 0.200\n"
     ]
    }
   ],
   "source": [
    "for i in range(hmc_steps):\n",
    "    info_dict = inference.update()\n",
    "    inference.print_progress(info_dict)\n",
    "\n",
    "# inference.finalize()\n",
    "# inference.run(variables=[], n_steps=hmc_steps)"
   ]
  },
  {
   "cell_type": "code",
   "execution_count": 144,
   "metadata": {
    "collapsed": false
   },
   "outputs": [
    {
     "data": {
      "image/png": "[encoded data removed]",
      "text/plain": [
       "<matplotlib.figure.Figure at 0x12d88a4d0>"
      ]
     },
     "execution_count": 144,
     "metadata": {},
     "output_type": "execute_result"
    },
    {
     "data": {
      "image/png": "[encoded data removed]",
      "text/plain": [
       "<matplotlib.figure.Figure at 0x12d88a4d0>"
      ]
     },
     "metadata": {},
     "output_type": "display_data"
    }
   ],
   "source": [
    "all_zeros = tf.Variable(tf.zeros([1, z_dim]))\n",
    "sess.run(tf.variables_initializer([all_zeros]))\n",
    "zeros_img, _ = P(all_zeros)\n",
    "plot(zeros_img.eval())"
   ]
  },
  {
   "cell_type": "code",
   "execution_count": 15,
   "metadata": {
    "collapsed": false
   },
   "outputs": [
    {
     "data": {
      "image/png": "[encoded data removed]",
      "text/plain": [
       "<matplotlib.figure.Figure at 0x13d239ad0>"
      ]
     },
     "metadata": {},
     "output_type": "display_data"
    },
    {
     "data": {
      "image/png": "[encoded data removed]",
      "text/plain": [
       "<matplotlib.figure.Figure at 0x13d41e550>"
      ]
     },
     "metadata": {},
     "output_type": "display_data"
    }
   ],
   "source": [
    "# inference.update()\n",
    "keep_ratio = 0.2\n",
    "to_keep_index = int((1-keep_ratio)*T)\n",
    "qz_kept = Empirical(qz.params[to_keep_index:])\n",
    "\n",
    "for element in range(inference_batch_size):\n",
    "    z_test = qz_kept.sample(1)[:,element]\n",
    "    img, _ = P(z_test)\n",
    "    plot([x_gt[element]])\n",
    "    plot(img.eval())"
   ]
  },
  {
   "cell_type": "markdown",
   "metadata": {},
   "source": [
    "## Sample from Posterior and Reconstruct Image"
   ]
  },
  {
   "cell_type": "code",
   "execution_count": 16,
   "metadata": {
    "collapsed": false
   },
   "outputs": [
    {
     "data": {
      "image/png": "[encoded data removed]",
      "text/plain": [
       "<matplotlib.figure.Figure at 0x13d4b7410>"
      ]
     },
     "execution_count": 16,
     "metadata": {},
     "output_type": "execute_result"
    },
    {
     "data": {
      "image/png": "[encoded data removed]",
      "text/plain": [
       "<matplotlib.figure.Figure at 0x11c4ea8d0>"
      ]
     },
     "metadata": {},
     "output_type": "display_data"
    },
    {
     "data": {
      "image/png": "[encoded data removed]",
      "text/plain": [
       "<matplotlib.figure.Figure at 0x13d66f310>"
      ]
     },
     "metadata": {},
     "output_type": "display_data"
    },
    {
     "data": {
      "image/png": "[encoded data removed]",
      "text/plain": [
       "<matplotlib.figure.Figure at 0x1335ca4d0>"
      ]
     },
     "metadata": {},
     "output_type": "display_data"
    },
    {
     "data": {
      "image/png": "[encoded data removed]",
      "text/plain": [
       "<matplotlib.figure.Figure at 0x133670750>"
      ]
     },
     "metadata": {},
     "output_type": "display_data"
    },
    {
     "data": {
      "image/png": "[encoded data removed]",
      "text/plain": [
       "<matplotlib.figure.Figure at 0x119224e10>"
      ]
     },
     "metadata": {},
     "output_type": "display_data"
    },
    {
     "data": {
      "image/png": "[encoded data removed]",
      "text/plain": [
       "<matplotlib.figure.Figure at 0x13d4b7410>"
      ]
     },
     "metadata": {},
     "output_type": "display_data"
    }
   ],
   "source": [
    "sample_to_vis = 5\n",
    "qz_sample = qz_kept.sample(sample_to_vis)\n",
    "\n",
    "for i in range(sample_to_vis):\n",
    "    img, _ = P(qz_sample[i])\n",
    "    plot(img.eval())\n",
    "    \n",
    "avg_img, _ = P(tf.reduce_mean(qz_sample, 0))\n",
    "plot(avg_img.eval())"
   ]
  },
  {
   "cell_type": "code",
   "execution_count": 17,
   "metadata": {
    "collapsed": false
   },
   "outputs": [],
   "source": [
    "def l2_loss(x_gt,z_hmc):\n",
    "    return tf.norm(x_gt-P(z_hmc)[0]).eval()\n",
    "\n",
    "def recon_loss(x_gt,z_hmc): \n",
    "    return tf.reduce_sum(tf.nn.sigmoid_cross_entropy_with_logits(logits=P(z_hmc)[1], labels=x_gt), 1).eval()"
   ]
  },
  {
   "cell_type": "code",
   "execution_count": 18,
   "metadata": {
    "collapsed": false
   },
   "outputs": [
    {
     "name": "stdout",
     "output_type": "stream",
     "text": [
      "[ 52.26885223]\n",
      "2.32197\n",
      "-----samples------\n",
      "[ 48.14434052]\n",
      "2.13651\n",
      "-------------\n",
      "yay\n",
      "[ 46.65478516]\n",
      "1.94468\n",
      "-------------\n",
      "[ 51.1394043]\n",
      "2.37452\n",
      "-------------\n",
      "[ 47.9309845]\n",
      "2.06424\n",
      "-------------\n",
      "yay\n",
      "[ 45.65494537]\n",
      "1.94129\n",
      "-------------\n",
      "[ 48.49896622]\n",
      "2.17952\n",
      "-------------\n",
      "[ 51.32647705]\n",
      "2.37309\n",
      "-------------\n",
      "[ 50.63134003]\n",
      "2.20095\n",
      "-------------\n",
      "[ 46.28199768]\n",
      "1.9905\n",
      "-------------\n",
      "[ 52.60238647]\n",
      "2.45758\n",
      "-------------\n",
      "[ 48.34067535]\n",
      "2.17812\n",
      "-------------\n",
      "[ 50.26340485]\n",
      "2.22953\n",
      "-------------\n",
      "[ 47.69944763]\n",
      "2.09656\n",
      "-------------\n",
      "[ 47.95613098]\n",
      "2.1468\n",
      "-------------\n",
      "[ 47.55810928]\n",
      "2.05888\n",
      "-------------\n",
      "[ 46.39728546]\n",
      "2.01569\n",
      "-------------\n",
      "yay\n",
      "[ 44.96559906]\n",
      "1.87301\n",
      "-------------\n",
      "[ 49.12448502]\n",
      "2.21418\n",
      "-------------\n",
      "[ 51.12766266]\n",
      "2.3427\n",
      "-------------\n",
      "[ 53.61332321]\n",
      "2.37049\n",
      "-------------\n",
      "[ 46.04524994]\n",
      "1.86677\n",
      "-------------\n",
      "[ 49.82853699]\n",
      "2.13201\n",
      "-------------\n",
      "[ 47.6476593]\n",
      "2.0816\n",
      "-------------\n",
      "[ 49.57329178]\n",
      "2.31466\n",
      "-------------\n",
      "[ 52.8939743]\n",
      "2.39664\n",
      "-------------\n",
      "[ 49.69083405]\n",
      "2.18388\n",
      "-------------\n",
      "[ 49.70326614]\n",
      "2.2129\n",
      "-------------\n",
      "[ 47.90099335]\n",
      "2.07972\n",
      "-------------\n",
      "[ 53.01493454]\n",
      "2.35637\n",
      "-------------\n",
      "[ 50.22324371]\n",
      "2.30432\n",
      "-------------\n",
      "[ 48.91382599]\n",
      "2.13567\n",
      "-------------\n",
      "[ 47.19761658]\n",
      "1.97252\n",
      "-------------\n",
      "[ 50.37369537]\n",
      "2.26508\n",
      "-------------\n",
      "[ 47.7686615]\n",
      "2.0288\n",
      "-------------\n",
      "[ 48.2363205]\n",
      "2.13848\n",
      "-------------\n",
      "[ 46.12966156]\n",
      "1.99889\n",
      "-------------\n",
      "[ 48.30604553]\n",
      "2.11811\n",
      "-------------\n",
      "[ 50.99972916]\n",
      "2.34487\n",
      "-------------\n",
      "[ 48.10829926]\n",
      "2.18059\n",
      "-------------\n",
      "yay\n",
      "[ 44.87279129]\n",
      "1.90373\n",
      "-------------\n",
      "[ 49.61468506]\n",
      "2.11087\n",
      "-------------\n",
      "[ 47.98356247]\n",
      "2.06356\n",
      "-------------\n",
      "[ 45.47062683]\n",
      "1.84952\n",
      "-------------\n",
      "[ 50.66943741]\n",
      "2.27264\n",
      "-------------\n",
      "[ 48.85652542]\n",
      "2.21495\n",
      "-------------\n",
      "[ 49.81247711]\n",
      "2.23649\n",
      "-------------\n",
      "[ 51.83600616]\n",
      "2.43574\n",
      "-------------\n",
      "[ 50.29019928]\n",
      "2.20121\n",
      "-------------\n",
      "[ 45.71256638]\n",
      "1.88983\n",
      "-------------\n",
      "[ 50.65372086]\n",
      "2.3329\n",
      "-------------\n",
      "[ 49.56832886]\n",
      "2.27005\n",
      "-------------\n",
      "[ 54.1078186]\n",
      "2.48971\n",
      "-------------\n",
      "yay\n",
      "[ 44.65265274]\n",
      "1.78769\n",
      "-------------\n",
      "[ 47.43577576]\n",
      "2.11469\n",
      "-------------\n",
      "[ 46.79673386]\n",
      "1.9445\n",
      "-------------\n",
      "[ 48.6751976]\n",
      "2.19435\n",
      "-------------\n",
      "[ 53.98651886]\n",
      "2.3113\n",
      "-------------\n",
      "[ 50.96336365]\n",
      "2.21855\n",
      "-------------\n",
      "[ 47.96006775]\n",
      "2.17931\n",
      "-------------\n",
      "[ 45.33275223]\n",
      "1.91211\n",
      "-------------\n",
      "[ 53.17735291]\n",
      "2.6085\n",
      "-------------\n",
      "[ 49.4798317]\n",
      "2.21859\n",
      "-------------\n",
      "[ 49.1971817]\n",
      "2.17304\n",
      "-------------\n",
      "[ 49.18327713]\n",
      "2.10623\n",
      "-------------\n",
      "[ 48.26765442]\n",
      "2.16137\n",
      "-------------\n",
      "[ 47.12781906]\n",
      "2.05261\n",
      "-------------\n",
      "[ 47.75076294]\n",
      "2.10323\n",
      "-------------\n",
      "[ 47.69960403]\n",
      "1.98848\n",
      "-------------\n",
      "[ 47.20420074]\n",
      "2.04837\n",
      "-------------\n",
      "[ 49.20820618]\n",
      "2.10981\n",
      "-------------\n",
      "[ 45.4120636]\n",
      "1.90633\n",
      "-------------\n",
      "[ 47.24360657]\n",
      "2.07256\n",
      "-------------\n",
      "[ 46.48117828]\n",
      "2.08042\n",
      "-------------\n",
      "[ 46.94417572]\n",
      "2.00765\n",
      "-------------\n",
      "[ 49.94687653]\n",
      "2.23615\n",
      "-------------\n",
      "[ 48.75074005]\n",
      "2.03726\n",
      "-------------\n",
      "[ 47.19194031]\n",
      "2.00336\n",
      "-------------\n",
      "[ 46.82275391]\n",
      "1.96028\n",
      "-------------\n",
      "[ 47.01228714]\n",
      "1.97411\n",
      "-------------\n",
      "[ 50.74155045]\n",
      "2.18981\n",
      "-------------\n",
      "[ 49.86152267]\n",
      "2.27093\n",
      "-------------\n",
      "[ 48.20662308]\n",
      "2.04202\n",
      "-------------\n",
      "[ 48.07542038]\n",
      "2.12889\n",
      "-------------\n",
      "[ 48.88296509]\n",
      "2.10251\n",
      "-------------\n",
      "[ 51.88756561]\n",
      "2.31269\n",
      "-------------\n",
      "[ 49.64139175]\n",
      "2.23114\n",
      "-------------\n",
      "[ 49.18084717]\n",
      "2.14759\n",
      "-------------\n",
      "[ 51.9671936]\n",
      "2.35646\n",
      "-------------\n",
      "[ 48.49499512]\n",
      "2.11057\n",
      "-------------\n",
      "[ 48.88296509]\n",
      "2.10251\n",
      "-------------\n",
      "[ 49.05245209]\n",
      "2.18107\n",
      "-------------\n",
      "[ 47.55222321]\n",
      "2.02115\n",
      "-------------\n",
      "[ 47.43577576]\n",
      "2.11469\n",
      "-------------\n",
      "[ 47.88520432]\n",
      "2.04296\n",
      "-------------\n",
      "[ 51.62010956]\n",
      "2.34037\n",
      "-------------\n",
      "[ 47.92926025]\n",
      "2.09784\n",
      "-------------\n",
      "yay\n",
      "[ 44.24640274]\n",
      "1.77521\n",
      "-------------\n",
      "[ 45.62035751]\n",
      "1.85805\n",
      "-------------\n",
      "[ 46.44587326]\n",
      "2.04641\n",
      "-------------\n",
      "[ 45.27041626]\n",
      "1.85312\n",
      "-------------\n"
     ]
    }
   ],
   "source": [
    "num_to_best = 100\n",
    "\n",
    "print recon_loss(x_gt,Q(x_gt)[0])\n",
    "print l2_loss(x_gt,Q(x_gt)[0])\n",
    "print \"-----samples------\"\n",
    "\n",
    "samples_to_check = qz_kept.sample(num_to_best).eval()\n",
    "\n",
    "best_sample = samples_to_check[0]\n",
    "\n",
    "for sample in samples_to_check:\n",
    "    \n",
    "#     print recon_loss(x_gt,this_sample)\n",
    "    if recon_loss(x_gt,sample)<recon_loss(x_gt,best_sample):\n",
    "        best_sample = sample\n",
    "        print 'yay'\n",
    "    print recon_loss(x_gt,sample)\n",
    "    print l2_loss(x_gt,sample)\n",
    "    print \"-------------\""
   ]
  },
  {
   "cell_type": "code",
   "execution_count": 29,
   "metadata": {
    "collapsed": false
   },
   "outputs": [
    {
     "data": {
      "image/png": "[encoded data removed]",
      "text/plain": [
       "<matplotlib.figure.Figure at 0x13589a510>"
      ]
     },
     "execution_count": 29,
     "metadata": {},
     "output_type": "execute_result"
    },
    {
     "data": {
      "image/png": "[encoded data removed]",
      "text/plain": [
       "<matplotlib.figure.Figure at 0x13589a510>"
      ]
     },
     "metadata": {},
     "output_type": "display_data"
    }
   ],
   "source": [
    "plot(P(best_sample)[0].eval())\n"
   ]
  },
  {
   "cell_type": "code",
   "execution_count": 30,
   "metadata": {
    "collapsed": false
   },
   "outputs": [
    {
     "data": {
      "image/png": "[encoded data removed]",
      "text/plain": [
       "<matplotlib.figure.Figure at 0x135324a10>"
      ]
     },
     "execution_count": 30,
     "metadata": {},
     "output_type": "execute_result"
    },
    {
     "data": {
      "image/png": "[encoded data removed]",
      "text/plain": [
       "<matplotlib.figure.Figure at 0x135324a10>"
      ]
     },
     "metadata": {},
     "output_type": "display_data"
    }
   ],
   "source": [
    "plot(x_gt)\n"
   ]
  },
  {
   "cell_type": "code",
   "execution_count": 31,
   "metadata": {
    "collapsed": false
   },
   "outputs": [
    {
     "data": {
      "image/png": "[encoded data removed]",
      "text/plain": [
       "<matplotlib.figure.Figure at 0x13536a1d0>"
      ]
     },
     "execution_count": 31,
     "metadata": {},
     "output_type": "execute_result"
    },
    {
     "data": {
      "image/png": "[encoded data removed]",
      "text/plain": [
       "<matplotlib.figure.Figure at 0x13536a1d0>"
      ]
     },
     "metadata": {},
     "output_type": "display_data"
    }
   ],
   "source": [
    "\n",
    "plot(P(Q(x_gt)[0])[0].eval())"
   ]
  },
  {
   "cell_type": "code",
   "execution_count": 203,
   "metadata": {
    "collapsed": false
   },
   "outputs": [
    {
     "data": {
      "text/plain": [
       "array([[-0.95212424, -0.06328762,  1.15245926, -1.89842546,  0.55811429,\n",
       "         0.28280312,  1.36288333, -0.28184998,  0.9417032 ,  0.90358549,\n",
       "         0.26905739,  0.08368081, -0.13203382, -0.92147446,  0.29938996,\n",
       "         1.16178298, -0.01221067, -1.98057282,  0.38699692,  1.04599583,\n",
       "         0.58394665, -0.99725592, -0.00950748, -0.27716935, -1.20402026,\n",
       "         1.3431704 ,  1.10342491,  0.26597792,  0.59657621,  0.07928611,\n",
       "         1.34685087, -0.62939471,  0.01714846,  1.36101007, -1.02673328,\n",
       "        -0.79244512, -1.47798836, -0.52183121,  0.3043693 , -0.14730322,\n",
       "         0.72478098, -0.76513886,  1.24852192, -0.74000216,  1.18806839,\n",
       "         0.90432167,  1.0154866 , -1.30663764,  0.86737531,  0.79493713,\n",
       "        -0.13313723, -0.70984679, -0.83949274,  0.4837237 ,  0.27060384,\n",
       "         0.16487481, -1.33788598, -0.69531536,  0.00543284,  1.02623618,\n",
       "        -1.54417562, -1.13814795,  1.41500294, -0.61554807,  0.60116261,\n",
       "        -0.5156759 , -0.71881491,  1.18957877,  0.72951806,  1.3412385 ,\n",
       "        -0.36838973, -1.83713412,  1.20395446, -0.91069323,  2.06827641,\n",
       "         1.3517642 ,  0.5501166 , -0.62732863,  1.31414163, -1.19105613,\n",
       "        -0.83807123,  0.04787865, -1.4432584 , -0.63419402, -0.15236321,\n",
       "        -0.57083607, -0.67204028, -0.13113713, -0.64395642,  0.11983359,\n",
       "        -1.16655254,  0.09983939, -0.92745167, -1.0916959 ,  0.30746913,\n",
       "         0.27825102, -0.71571571,  0.97823524,  0.76258039, -1.59318936]], dtype=float32)"
      ]
     },
     "execution_count": 203,
     "metadata": {},
     "output_type": "execute_result"
    }
   ],
   "source": [
    "best_sample.eval()"
   ]
  },
  {
   "cell_type": "code",
   "execution_count": 218,
   "metadata": {
    "collapsed": false
   },
   "outputs": [],
   "source": [
    "stored = qz_kept.sample(4)[:].eval()"
   ]
  },
  {
   "cell_type": "code",
   "execution_count": 57,
   "metadata": {
    "collapsed": false
   },
   "outputs": [
    {
     "ename": "NotImplementedError",
     "evalue": "prob is not implemented",
     "output_type": "error",
     "traceback": [
      "\u001b[0;31m---------------------------------------------------------------------------\u001b[0m",
      "\u001b[0;31mNotImplementedError\u001b[0m                       Traceback (most recent call last)",
      "\u001b[0;32m<ipython-input-57-d2a163c1ac29>\u001b[0m in \u001b[0;36m<module>\u001b[0;34m()\u001b[0m\n\u001b[0;32m----> 1\u001b[0;31m \u001b[0mqz_kept\u001b[0m\u001b[0;34m.\u001b[0m\u001b[0mprob\u001b[0m\u001b[0;34m(\u001b[0m\u001b[0mQ\u001b[0m\u001b[0;34m(\u001b[0m\u001b[0mx_gt\u001b[0m\u001b[0;34m)\u001b[0m\u001b[0;34m[\u001b[0m\u001b[0;36m0\u001b[0m\u001b[0;34m]\u001b[0m\u001b[0;34m)\u001b[0m\u001b[0;34m\u001b[0m\u001b[0m\n\u001b[0m",
      "\u001b[0;32m/usr/local/lib/python2.7/site-packages/tensorflow/python/ops/distributions/distribution.pyc\u001b[0m in \u001b[0;36mprob\u001b[0;34m(self, value, name)\u001b[0m\n\u001b[1;32m    717\u001b[0m         \u001b[0mvalues\u001b[0m \u001b[0mof\u001b[0m \u001b[0mtype\u001b[0m \u001b[0;34m`\u001b[0m\u001b[0mself\u001b[0m\u001b[0;34m.\u001b[0m\u001b[0mdtype\u001b[0m\u001b[0;34m`\u001b[0m\u001b[0;34m.\u001b[0m\u001b[0;34m\u001b[0m\u001b[0m\n\u001b[1;32m    718\u001b[0m     \"\"\"\n\u001b[0;32m--> 719\u001b[0;31m     \u001b[0;32mreturn\u001b[0m \u001b[0mself\u001b[0m\u001b[0;34m.\u001b[0m\u001b[0m_call_prob\u001b[0m\u001b[0;34m(\u001b[0m\u001b[0mvalue\u001b[0m\u001b[0;34m,\u001b[0m \u001b[0mname\u001b[0m\u001b[0;34m)\u001b[0m\u001b[0;34m\u001b[0m\u001b[0m\n\u001b[0m\u001b[1;32m    720\u001b[0m \u001b[0;34m\u001b[0m\u001b[0m\n\u001b[1;32m    721\u001b[0m   \u001b[0;32mdef\u001b[0m \u001b[0m_log_cdf\u001b[0m\u001b[0;34m(\u001b[0m\u001b[0mself\u001b[0m\u001b[0;34m,\u001b[0m \u001b[0mvalue\u001b[0m\u001b[0;34m)\u001b[0m\u001b[0;34m:\u001b[0m\u001b[0;34m\u001b[0m\u001b[0m\n",
      "\u001b[0;32m/usr/local/lib/python2.7/site-packages/tensorflow/python/ops/distributions/distribution.pyc\u001b[0m in \u001b[0;36m_call_prob\u001b[0;34m(self, value, name, **kwargs)\u001b[0m\n\u001b[1;32m    704\u001b[0m           \u001b[0;32mreturn\u001b[0m \u001b[0mmath_ops\u001b[0m\u001b[0;34m.\u001b[0m\u001b[0mexp\u001b[0m\u001b[0;34m(\u001b[0m\u001b[0mself\u001b[0m\u001b[0;34m.\u001b[0m\u001b[0m_log_prob\u001b[0m\u001b[0;34m(\u001b[0m\u001b[0mvalue\u001b[0m\u001b[0;34m,\u001b[0m \u001b[0;34m**\u001b[0m\u001b[0mkwargs\u001b[0m\u001b[0;34m)\u001b[0m\u001b[0;34m)\u001b[0m\u001b[0;34m\u001b[0m\u001b[0m\n\u001b[1;32m    705\u001b[0m         \u001b[0;32mexcept\u001b[0m \u001b[0mNotImplementedError\u001b[0m\u001b[0;34m:\u001b[0m\u001b[0;34m\u001b[0m\u001b[0m\n\u001b[0;32m--> 706\u001b[0;31m           \u001b[0;32mraise\u001b[0m \u001b[0moriginal_exception\u001b[0m\u001b[0;34m\u001b[0m\u001b[0m\n\u001b[0m\u001b[1;32m    707\u001b[0m \u001b[0;34m\u001b[0m\u001b[0m\n\u001b[1;32m    708\u001b[0m   \u001b[0;32mdef\u001b[0m \u001b[0mprob\u001b[0m\u001b[0;34m(\u001b[0m\u001b[0mself\u001b[0m\u001b[0;34m,\u001b[0m \u001b[0mvalue\u001b[0m\u001b[0;34m,\u001b[0m \u001b[0mname\u001b[0m\u001b[0;34m=\u001b[0m\u001b[0;34m\"prob\"\u001b[0m\u001b[0;34m)\u001b[0m\u001b[0;34m:\u001b[0m\u001b[0;34m\u001b[0m\u001b[0m\n",
      "\u001b[0;31mNotImplementedError\u001b[0m: prob is not implemented"
     ]
    }
   ],
   "source": [
    "qz_kept.prob(Q(x_gt)[0])"
   ]
  },
  {
   "cell_type": "code",
   "execution_count": 56,
   "metadata": {
    "collapsed": false
   },
   "outputs": [
    {
     "data": {
      "text/plain": [
       "<tf.Tensor 'encoder_20/add_1:0' shape=(1, 100) dtype=float32>"
      ]
     },
     "execution_count": 56,
     "metadata": {},
     "output_type": "execute_result"
    }
   ],
   "source": [
    "Q(x_gt)[0]"
   ]
  },
  {
   "cell_type": "markdown",
   "metadata": {
    "collapsed": true
   },
   "source": [
    "# Visualizing Latent Stuff"
   ]
  },
  {
   "cell_type": "code",
   "execution_count": 143,
   "metadata": {
    "collapsed": false
   },
   "outputs": [
    {
     "data": {
      "text/plain": [
       "array([[ 0.39329466,  0.39197376]])"
      ]
     },
     "execution_count": 143,
     "metadata": {},
     "output_type": "execute_result"
    }
   ],
   "source": [
    "dims = [0,1]\n",
    "\n",
    "# hmc\n",
    "num_samples = 500\n",
    "hmc_samples = qz.sample(num_samples).eval()[:,:,dims]\n",
    "hmc_samples = hmc_samples.reshape(num_samples,2)\n",
    "\n",
    "# vae\n",
    "z_mu, z_logvar = Q(x_gt)\n",
    "z_mu, z_logvar = z_mu.eval()[:,dims], z_logvar.eval()[:,dims]\n",
    "z_sig = np.sqrt(np.exp(z_logvar))\n",
    "\n",
    "\n",
    "import matplotlib.mlab as mlab\n",
    "\n",
    "def z_pdf(x):\n",
    "    return mlab.normpdf(x, z_mu, z_sig)\n",
    "\n",
    "z_pdf([0,0])\n"
   ]
  },
  {
   "cell_type": "code",
   "execution_count": 123,
   "metadata": {
    "collapsed": false
   },
   "outputs": [
    {
     "data": {
      "text/plain": [
       "<matplotlib.collections.PathCollection at 0x14e428110>"
      ]
     },
     "execution_count": 123,
     "metadata": {},
     "output_type": "execute_result"
    },
    {
     "data": {
      "image/png": "[encoded data removed]",
      "text/plain": [
       "<matplotlib.figure.Figure at 0x14feda990>"
      ]
     },
     "metadata": {},
     "output_type": "display_data"
    }
   ],
   "source": [
    "plt.scatter(hmc_samples[:,0],hmc_samples[:,1])\n",
    "\n",
    "delta = 0.025\n",
    "x = np.arange(-3.0, 3.0, delta)\n",
    "y = np.arange(-2.0, 2.0, delta)\n",
    "X, Y = np.meshgrid(x, y)\n",
    "Z = \n",
    "\n",
    "plt.scatter(z_mu[:,0],z_mu[:,1],c='red')"
   ]
  },
  {
   "cell_type": "code",
   "execution_count": 116,
   "metadata": {
    "collapsed": false
   },
   "outputs": [
    {
     "name": "stdout",
     "output_type": "stream",
     "text": [
      "[[-0.03415328  0.01484325]]\n"
     ]
    }
   ],
   "source": [
    "print z_mu\n",
    "print z"
   ]
  },
  {
   "cell_type": "code",
   "execution_count": 73,
   "metadata": {
    "collapsed": false
   },
   "outputs": [
    {
     "data": {
      "text/plain": [
       "array([[[ 1.09841859, -1.00078583]],\n",
       "\n",
       "       [[ 0.36486715,  0.07354191]],\n",
       "\n",
       "       [[ 0.33972636, -1.00488305]],\n",
       "\n",
       "       [[-1.16158843, -0.40573901]],\n",
       "\n",
       "       [[-0.77340281, -0.47521901]]], dtype=float32)"
      ]
     },
     "execution_count": 73,
     "metadata": {},
     "output_type": "execute_result"
    }
   ],
   "source": [
    "example[:,:,dims]"
   ]
  },
  {
   "cell_type": "code",
   "execution_count": 81,
   "metadata": {
    "collapsed": false
   },
   "outputs": [
    {
     "data": {
      "text/plain": [
       "array([[-0.71766412,  0.55106211],\n",
       "       [ 0.51440388,  0.83293486],\n",
       "       [-1.69361949,  0.22254241],\n",
       "       [ 1.09834707, -0.04426646],\n",
       "       [ 0.08729209, -2.38114882],\n",
       "       [ 0.93639302, -0.02984439],\n",
       "       [ 1.03560019, -1.09900773],\n",
       "       [ 1.9365437 ,  2.59694123],\n",
       "       [-0.72813511,  1.38043725],\n",
       "       [-0.22455654, -0.5990687 ],\n",
       "       [ 1.13784456,  0.26290983],\n",
       "       [ 0.02455321,  0.63259876],\n",
       "       [-0.96345627, -0.7392078 ],\n",
       "       [ 0.56158209, -0.40697479],\n",
       "       [ 1.1787442 , -0.64984989],\n",
       "       [ 0.12766266,  1.17939222],\n",
       "       [ 1.36379325, -0.54766995],\n",
       "       [-1.19331634,  0.36925721],\n",
       "       [-1.2328949 ,  1.00660348],\n",
       "       [ 1.01027083, -1.33736491],\n",
       "       [ 1.15618086, -0.22541323],\n",
       "       [-0.60926878, -0.88898516],\n",
       "       [ 2.23491359, -0.16814062],\n",
       "       [ 0.92787731,  0.00902253],\n",
       "       [ 0.67106819, -1.57492197],\n",
       "       [-0.50968361,  0.52206308],\n",
       "       [ 0.33030197,  0.89059508],\n",
       "       [ 1.53471553,  0.96007931],\n",
       "       [-0.4101423 , -2.32948828],\n",
       "       [ 0.58548534, -1.60822165],\n",
       "       [ 0.32332397,  1.57464457],\n",
       "       [-0.33414769,  1.65384758],\n",
       "       [ 0.2222243 , -0.7049244 ],\n",
       "       [-0.22296387,  1.0687654 ],\n",
       "       [ 0.25967842, -2.23341179],\n",
       "       [-0.47833937,  0.10268833],\n",
       "       [-0.69313467, -0.28580871],\n",
       "       [ 0.98020208, -0.89856476],\n",
       "       [-0.3534041 , -1.13471258],\n",
       "       [ 1.51927376, -1.06922305],\n",
       "       [-0.17244089,  0.07576782],\n",
       "       [ 0.40077817, -0.47214991],\n",
       "       [ 0.18029499, -0.57904422],\n",
       "       [-0.17231759,  0.50822347],\n",
       "       [-2.92202568, -0.60667139],\n",
       "       [-1.59248769,  2.4084003 ],\n",
       "       [ 0.54353321, -0.06464031],\n",
       "       [-0.2854467 , -2.27159214],\n",
       "       [ 1.00295329,  0.57964963],\n",
       "       [-0.33639261, -0.32503408],\n",
       "       [-0.34237498, -0.4706482 ],\n",
       "       [-0.39698082, -0.87519884],\n",
       "       [-0.86507654,  1.17138672],\n",
       "       [-1.26310885, -0.60487032],\n",
       "       [-0.98199326, -1.14924896],\n",
       "       [-0.17907947, -0.7756387 ],\n",
       "       [ 1.26681626, -0.08408245],\n",
       "       [-0.091326  ,  0.59594285],\n",
       "       [ 0.05560783,  1.88701761],\n",
       "       [ 0.45684531, -0.07876694],\n",
       "       [-1.25088835,  2.12795568],\n",
       "       [ 1.14417207, -0.36572042],\n",
       "       [-0.60946965, -1.49729657],\n",
       "       [ 2.15933204, -0.65473694],\n",
       "       [-0.7291652 ,  1.28727412],\n",
       "       [ 1.59938741, -0.21751472],\n",
       "       [-1.04037702,  1.15754497],\n",
       "       [-2.02905536, -0.99274611],\n",
       "       [ 0.30951408,  0.65410775],\n",
       "       [-0.24036266, -0.69609982],\n",
       "       [-0.11633199,  0.83313298],\n",
       "       [-0.49245903,  1.84813762],\n",
       "       [ 0.53707486,  0.18427561],\n",
       "       [-0.44201154, -0.36436152],\n",
       "       [-0.1918225 , -2.22903585],\n",
       "       [-0.65252554,  0.3923167 ],\n",
       "       [ 0.23636296, -1.85531986],\n",
       "       [ 2.53091645,  0.96184254],\n",
       "       [ 1.77507508,  0.42582801],\n",
       "       [-0.31563738,  1.05432105],\n",
       "       [ 0.41081792, -1.27029133],\n",
       "       [ 0.5706625 ,  0.43754134],\n",
       "       [-1.57694077, -1.21401536],\n",
       "       [ 0.66879898, -0.81574833],\n",
       "       [-0.34745109,  2.44559193],\n",
       "       [-0.62035823,  0.93863702],\n",
       "       [ 1.19389224,  1.07968616],\n",
       "       [ 1.43223941, -0.08660334],\n",
       "       [ 0.08165652, -0.22064731],\n",
       "       [-0.38342559, -0.0719984 ],\n",
       "       [ 0.82642365, -1.43482983],\n",
       "       [ 1.92922568, -2.01845646],\n",
       "       [-0.14876148,  0.74353129],\n",
       "       [-0.80221903, -0.54062605],\n",
       "       [ 0.67103988, -0.62762606],\n",
       "       [ 0.67032623, -0.75976336],\n",
       "       [-0.37011471,  0.72564381],\n",
       "       [ 0.05169177, -0.64920896],\n",
       "       [-0.0792174 , -2.01057434],\n",
       "       [-0.27943277, -0.55405021]], dtype=float32)"
      ]
     },
     "execution_count": 81,
     "metadata": {},
     "output_type": "execute_result"
    }
   ],
   "source": [
    "hmc_samples.reshape(100,2)"
   ]
  },
  {
   "cell_type": "code",
   "execution_count": null,
   "metadata": {
    "collapsed": true
   },
   "outputs": [],
   "source": []
  }
 ],
 "metadata": {
  "_draft": {
   "nbviewer_url": "https://gist.github.com/9ee7dcdeddd2116db9ffee9613bf0ab0"
  },
  "gist": {
   "data": {
    "description": "HMC_VAE.ipynb",
    "public": true
   },
   "id": "9ee7dcdeddd2116db9ffee9613bf0ab0"
  },
  "kernelspec": {
   "display_name": "Python 2",
   "language": "python",
   "name": "python2"
  },
  "language_info": {
   "codemirror_mode": {
    "name": "ipython",
    "version": 2
   },
   "file_extension": ".py",
   "mimetype": "text/x-python",
   "name": "python",
   "nbconvert_exporter": "python",
   "pygments_lexer": "ipython2",
   "version": "2.7.10"
  },
  "varInspector": {
   "cols": {
    "lenName": 16,
    "lenType": 16,
    "lenVar": 40
   },
   "kernels_config": {
    "python": {
     "delete_cmd_postfix": "",
     "delete_cmd_prefix": "del ",
     "library": "var_list.py",
     "varRefreshCmd": "print(var_dic_list())"
    },
    "r": {
     "delete_cmd_postfix": ") ",
     "delete_cmd_prefix": "rm(",
     "library": "var_list.r",
     "varRefreshCmd": "cat(var_dic_list()) "
    }
   },
   "types_to_exclude": [
    "module",
    "function",
    "builtin_function_or_method",
    "instance",
    "_Feature"
   ],
   "window_display": false
  }
 },
 "nbformat": 4,
 "nbformat_minor": 2
}
