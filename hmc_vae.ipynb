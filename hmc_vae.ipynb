{
 "cells": [
  {
   "cell_type": "code",
   "execution_count": 1,
   "metadata": {
    "collapsed": true
   },
   "outputs": [],
   "source": [
    "import tensorflow as tf\n",
    "import numpy as np\n",
    "import matplotlib.pyplot as plt\n",
    "import matplotlib.gridspec as gridspec\n",
    "import os\n",
    "from tensorflow.examples.tutorials.mnist import input_data\n",
    "\n",
    "from edward.models import Normal, Bernoulli, Empirical\n",
    "import edward as ed"
   ]
  },
  {
   "cell_type": "code",
   "execution_count": 2,
   "metadata": {
    "collapsed": false
   },
   "outputs": [
    {
     "name": "stdout",
     "output_type": "stream",
     "text": [
      "Extracting ./MNIST_data/train-images-idx3-ubyte.gz\n",
      "Extracting ./MNIST_data/train-labels-idx1-ubyte.gz\n",
      "Extracting ./MNIST_data/t10k-images-idx3-ubyte.gz\n",
      "Extracting ./MNIST_data/t10k-labels-idx1-ubyte.gz\n"
     ]
    }
   ],
   "source": [
    "mnist = input_data.read_data_sets('./MNIST_data', one_hot=True)\n",
    "mb_size = 64\n",
    "z_dim = 100\n",
    "X_dim = mnist.train.images.shape[1]\n",
    "y_dim = mnist.train.labels.shape[1]\n",
    "h_dim = 128\n",
    "c = 0\n",
    "lr = 1e-3"
   ]
  },
  {
   "cell_type": "code",
   "execution_count": 3,
   "metadata": {
    "collapsed": true
   },
   "outputs": [],
   "source": [
    "def plot(samples):\n",
    "    fig = plt.figure(figsize=(4, 4))\n",
    "    gs = gridspec.GridSpec(4, 4)\n",
    "    gs.update(wspace=0.05, hspace=0.05)\n",
    "\n",
    "    for i, sample in enumerate(samples):\n",
    "        ax = plt.subplot(gs[i])\n",
    "        plt.axis('off')\n",
    "        ax.set_xticklabels([])\n",
    "        ax.set_yticklabels([])\n",
    "        ax.set_aspect('equal')\n",
    "        plt.imshow(sample.reshape(28, 28), cmap='Greys_r')\n",
    "\n",
    "    return fig\n",
    "\n",
    "\n",
    "def xavier_init(size):\n",
    "    in_dim = size[0]\n",
    "    xavier_stddev = 1. / tf.sqrt(in_dim / 2.)\n",
    "    return tf.random_normal(shape=size, stddev=xavier_stddev)"
   ]
  },
  {
   "cell_type": "code",
   "execution_count": 4,
   "metadata": {
    "collapsed": true
   },
   "outputs": [],
   "source": [
    "# =============================== Q(z|X) Encoder ======================================\n",
    "\n",
    "Q_W1 = tf.Variable(xavier_init([X_dim, h_dim]))\n",
    "Q_b1 = tf.Variable(tf.zeros(shape=[h_dim]))\n",
    "\n",
    "Q_W2_mu = tf.Variable(xavier_init([h_dim, z_dim]))\n",
    "Q_b2_mu = tf.Variable(tf.zeros(shape=[z_dim]))\n",
    "\n",
    "Q_W2_sigma = tf.Variable(xavier_init([h_dim, z_dim]))\n",
    "Q_b2_sigma = tf.Variable(tf.zeros(shape=[z_dim]))\n",
    "\n",
    "\n",
    "def Q(X, reuse=True):\n",
    "    with tf.variable_scope('encoder', reuse=reuse):\n",
    "        h = tf.nn.relu(tf.matmul(X, Q_W1) + Q_b1)\n",
    "        z_mu = tf.matmul(h, Q_W2_mu) + Q_b2_mu\n",
    "        z_logvar = tf.matmul(h, Q_W2_sigma) + Q_b2_sigma\n",
    "        return z_mu, z_logvar\n",
    "\n",
    "# =============================== Sampling Helper ======================================\n",
    "def sample_z(mu, log_var):\n",
    "    eps = tf.random_normal(shape=tf.shape(mu))\n",
    "    return mu + tf.exp(log_var / 2) * eps\n",
    "\n",
    "# =============================== P(X|z) Decoder ======================================\n",
    "\n",
    "P_W1 = tf.Variable(xavier_init([z_dim, h_dim]))\n",
    "P_b1 = tf.Variable(tf.zeros(shape=[h_dim]))\n",
    "\n",
    "P_W2 = tf.Variable(xavier_init([h_dim, X_dim]))\n",
    "P_b2 = tf.Variable(tf.zeros(shape=[X_dim]))\n",
    "\n",
    "\n",
    "def P(z, reuse=True):\n",
    "    with tf.variable_scope('decoder', reuse=reuse):\n",
    "        h = tf.nn.relu(tf.matmul(z, P_W1) + P_b1)\n",
    "        logits = tf.matmul(h, P_W2) + P_b2\n",
    "        prob = tf.nn.sigmoid(logits)\n",
    "        return prob, logits\n",
    "\n"
   ]
  },
  {
   "cell_type": "code",
   "execution_count": 5,
   "metadata": {
    "collapsed": true
   },
   "outputs": [],
   "source": [
    "# =============================== DEFINE LOSS ====================================\n",
    "X = tf.placeholder(tf.float32, shape=[None, X_dim])\n",
    "z = tf.placeholder(tf.float32, shape=[None, z_dim])\n",
    "\n",
    "z_mu, z_logvar = Q(X)\n",
    "z_sample = sample_z(z_mu, z_logvar)\n",
    "_, logits = P(z_sample)\n",
    "\n",
    "# Sampling from random z\n",
    "X_samples, _ = P(z)\n",
    "\n",
    "# E[log P(X|z)]\n",
    "recon_loss = tf.reduce_sum(tf.nn.sigmoid_cross_entropy_with_logits(logits=logits, labels=X), 1)\n",
    "# D_KL(Q(z|X) || P(z)); calculate in closed form as both dist. are Gaussian\n",
    "kl_loss = 0.5 * tf.reduce_sum(tf.exp(z_logvar) + z_mu**2 - 1. - z_logvar, 1)\n",
    "# VAE loss\n",
    "vae_loss = tf.reduce_mean(recon_loss + kl_loss)\n",
    "\n",
    "solver = tf.train.AdamOptimizer().minimize(vae_loss)\n",
    "\n",
    "# sess = tf.Session()\n",
    "sess = ed.get_session() # need to make sure tf and edward share the global session\n",
    "sess.run(tf.global_variables_initializer())\n",
    "\n",
    "if not os.path.exists('out/'):\n",
    "    os.makedirs('out/')"
   ]
  },
  {
   "cell_type": "code",
   "execution_count": 6,
   "metadata": {
    "collapsed": false
   },
   "outputs": [
    {
     "name": "stdout",
     "output_type": "stream",
     "text": [
      "Iter: 0\n",
      "Loss: 755.5\n",
      "()\n",
      "Iter: 1000\n",
      "Loss: 144.5\n",
      "()\n",
      "Iter: 2000\n",
      "Loss: 127.0\n",
      "()\n",
      "Iter: 3000\n",
      "Loss: 119.7\n",
      "()\n",
      "Iter: 4000\n",
      "Loss: 120.4\n",
      "()\n",
      "Iter: 5000\n",
      "Loss: 113.3\n",
      "()\n",
      "Iter: 6000\n",
      "Loss: 118.1\n",
      "()\n",
      "Iter: 7000\n",
      "Loss: 115.7\n",
      "()\n",
      "Iter: 8000\n",
      "Loss: 112.6\n",
      "()\n",
      "Iter: 9000\n",
      "Loss: 112.5\n",
      "()\n",
      "Iter: 10000\n",
      "Loss: 111.6\n",
      "()\n",
      "Iter: 11000\n",
      "Loss: 112.1\n",
      "()\n",
      "Iter: 12000\n",
      "Loss: 111.6\n",
      "()\n",
      "Iter: 13000\n",
      "Loss: 105.8\n",
      "()\n",
      "Iter: 14000\n",
      "Loss: 108.8\n",
      "()\n",
      "Iter: 15000\n",
      "Loss: 113.8\n",
      "()\n",
      "Iter: 16000\n",
      "Loss: 113.8\n",
      "()\n",
      "Iter: 17000\n",
      "Loss: 109.6\n",
      "()\n",
      "Iter: 18000\n",
      "Loss: 106.9\n",
      "()\n",
      "Iter: 19000\n",
      "Loss: 105.7\n",
      "()\n"
     ]
    }
   ],
   "source": [
    "# =============================== TRAINING ====================================\n",
    "i = 0\n",
    "max_iter = 20000\n",
    "\n",
    "for it in range(max_iter):\n",
    "    X_mb, _ = mnist.train.next_batch(mb_size)\n",
    "\n",
    "    _, loss = sess.run([solver, vae_loss], feed_dict={X: X_mb})\n",
    "\n",
    "    if it % 1000 == 0:\n",
    "        print('Iter: {}'.format(it))\n",
    "        print('Loss: {:.4}'. format(loss))\n",
    "        print()\n",
    "\n",
    "        samples = sess.run(X_samples, feed_dict={z: np.random.randn(16, z_dim)})\n",
    "\n",
    "        fig = plot(samples)\n",
    "        plt.savefig('out/{}.png'.format(str(i).zfill(3)), bbox_inches='tight')\n",
    "        i += 1\n",
    "        plt.close(fig)"
   ]
  },
  {
   "cell_type": "markdown",
   "metadata": {},
   "source": [
    "## Check that VAE can Reconstruct GT"
   ]
  },
  {
   "cell_type": "code",
   "execution_count": 80,
   "metadata": {
    "collapsed": false
   },
   "outputs": [
    {
     "data": {
      "image/png": "[encoded data removed]",
      "text/plain": [
       "<matplotlib.figure.Figure at 0x128b57f90>"
      ]
     },
     "metadata": {},
     "output_type": "display_data"
    },
    {
     "data": {
      "image/png": "[encoded data removed]",
      "text/plain": [
       "<matplotlib.figure.Figure at 0x11cbab8d0>"
      ]
     },
     "metadata": {},
     "output_type": "display_data"
    }
   ],
   "source": [
    "plt.close('all')\n",
    "%matplotlib inline\n",
    "\n",
    "num_checks = 2\n",
    "x_gt, _ = mnist.train.next_batch(num_checks)\n",
    "plot(x_gt)\n",
    "plot(P(Q(x_gt)[0])[0].eval())\n",
    "_ = 1 # prevent repeated plot in jupyter"
   ]
  },
  {
   "cell_type": "code",
   "execution_count": 7,
   "metadata": {
    "collapsed": true
   },
   "outputs": [],
   "source": [
    "def init_uninited_vars():\n",
    "    unint_vars = []\n",
    "    for var in tf.global_variables():\n",
    "        if not tf.is_variable_initialized(var).eval():\n",
    "            unint_vars.append(var)\n",
    "    missingVarInit = tf.variables_initializer (unint_vars)\n",
    "    sess.run(missingVarInit)"
   ]
  },
  {
   "cell_type": "markdown",
   "metadata": {},
   "source": [
    "## HMC Inference"
   ]
  },
  {
   "cell_type": "code",
   "execution_count": 8,
   "metadata": {
    "collapsed": false
   },
   "outputs": [
    {
     "data": {
      "image/png": "[encoded data removed]",
      "text/plain": [
       "<matplotlib.figure.Figure at 0x123682c90>"
      ]
     },
     "metadata": {},
     "output_type": "display_data"
    }
   ],
   "source": [
    "%matplotlib inline\n",
    "\n",
    "inference_batch_size = 1\n",
    "x_gt, _ = mnist.train.next_batch(inference_batch_size)\n",
    "plot(x_gt)\n",
    "\n",
    "T = 20000 # number of empirical samples in posterior\n",
    "img_dim = 28\n",
    "hmc_steps = T\n",
    "leap_steps = 10\n",
    "# print x_gt\n",
    "# z = Normal(loc=tf.zeros([inference_batch_size, z_dim]), scale=tf.ones([inference_batch_size, z_dim])) # sample z\n",
    "z = Normal(loc=Q(x_gt)[0], scale=tf.ones([inference_batch_size, z_dim])) # sample z\n",
    "\n",
    "normalized_dec_x, dec_x_logits = P(z)\n",
    "# print dec_x_logits.shape\n",
    "\n",
    "X = Normal(loc=normalized_dec_x, scale=tf.ones([1, 28*28]))\n",
    "  \n",
    "# X = Normal(loc=dec_x, scale=tf.ones(img_dim)*sig) # likelihood distrib\n",
    "qz = Empirical(params=tf.Variable(tf.zeros([T, inference_batch_size, z_dim])))\n",
    "\n",
    "inference = ed.HMC({z: qz}, data={X: x_gt})\n",
    "\n",
    "# inference.initialize(step_size=0.05, n_steps=leap_steps)\n",
    "inference.initialize()\n",
    "init_uninited_vars()"
   ]
  },
  {
   "cell_type": "code",
   "execution_count": 153,
   "metadata": {
    "collapsed": false
   },
   "outputs": [
    {
     "data": {
      "image/png": "[encoded data removed]",
      "text/plain": [
       "<matplotlib.figure.Figure at 0x132a3afd0>"
      ]
     },
     "metadata": {},
     "output_type": "display_data"
    }
   ],
   "source": [
    "plt.plot(tf.squeeze(qz.params, 1).eval());"
   ]
  },
  {
   "cell_type": "code",
   "execution_count": 9,
   "metadata": {
    "collapsed": false
   },
   "outputs": [
    {
     "name": "stdout",
     "output_type": "stream",
     "text": [
      "20000/20000 [100%] ██████████████████████████████ Elapsed: 38s | Acceptance Rate: 0.878\n"
     ]
    }
   ],
   "source": [
    "for i in range(hmc_steps):\n",
    "    info_dict = inference.update()\n",
    "    inference.print_progress(info_dict)\n",
    "\n",
    "# inference.finalize()\n",
    "# inference.run(variables=[], n_steps=hmc_steps)"
   ]
  },
  {
   "cell_type": "code",
   "execution_count": 144,
   "metadata": {
    "collapsed": false
   },
   "outputs": [
    {
     "data": {
      "image/png": "[encoded data removed]",
      "text/plain": [
       "<matplotlib.figure.Figure at 0x12d88a4d0>"
      ]
     },
     "execution_count": 144,
     "metadata": {},
     "output_type": "execute_result"
    },
    {
     "data": {
      "image/png": "[encoded data removed]",
      "text/plain": [
       "<matplotlib.figure.Figure at 0x12d88a4d0>"
      ]
     },
     "metadata": {},
     "output_type": "display_data"
    }
   ],
   "source": [
    "all_zeros = tf.Variable(tf.zeros([1, z_dim]))\n",
    "sess.run(tf.variables_initializer([all_zeros]))\n",
    "zeros_img, _ = P(all_zeros)\n",
    "plot(zeros_img.eval())"
   ]
  },
  {
   "cell_type": "code",
   "execution_count": 12,
   "metadata": {
    "collapsed": false
   },
   "outputs": [
    {
     "data": {
      "image/png": "[encoded data removed]",
      "text/plain": [
       "<matplotlib.figure.Figure at 0x1215226d0>"
      ]
     },
     "metadata": {},
     "output_type": "display_data"
    },
    {
     "data": {
      "image/png": "[encoded data removed]",
      "text/plain": [
       "<matplotlib.figure.Figure at 0x121807550>"
      ]
     },
     "metadata": {},
     "output_type": "display_data"
    }
   ],
   "source": [
    "# inference.update()\n",
    "keep_ratio = 0.2\n",
    "to_keep_index = int((1-keep_ratio)*T)\n",
    "qz_kept = Empirical(qz.params[to_keep_index:])\n",
    "\n",
    "for element in range(inference_batch_size):\n",
    "    z_test = qz_kept.sample(1)[:,element]\n",
    "    img, _ = P(z_test)\n",
    "    plot([x_gt[element]])\n",
    "    plot(img.eval())"
   ]
  },
  {
   "cell_type": "markdown",
   "metadata": {},
   "source": [
    "## Sample from Posterior and Reconstruct Image"
   ]
  },
  {
   "cell_type": "code",
   "execution_count": 158,
   "metadata": {
    "collapsed": false
   },
   "outputs": [
    {
     "data": {
      "image/png": "[encoded data removed]",
      "text/plain": [
       "<matplotlib.figure.Figure at 0x13505ab90>"
      ]
     },
     "execution_count": 158,
     "metadata": {},
     "output_type": "execute_result"
    },
    {
     "data": {
      "image/png": "[encoded data removed]",
      "text/plain": [
       "<matplotlib.figure.Figure at 0x134b57650>"
      ]
     },
     "metadata": {},
     "output_type": "display_data"
    },
    {
     "data": {
      "image/png": "[encoded data removed]",
      "text/plain": [
       "<matplotlib.figure.Figure at 0x134eb2f10>"
      ]
     },
     "metadata": {},
     "output_type": "display_data"
    },
    {
     "data": {
      "image/png": "[encoded data removed]",
      "text/plain": [
       "<matplotlib.figure.Figure at 0x134f74850>"
      ]
     },
     "metadata": {},
     "output_type": "display_data"
    },
    {
     "data": {
      "image/png": "[encoded data removed]",
      "text/plain": [
       "<matplotlib.figure.Figure at 0x13508e510>"
      ]
     },
     "metadata": {},
     "output_type": "display_data"
    },
    {
     "data": {
      "image/png": "[encoded data removed]",
      "text/plain": [
       "<matplotlib.figure.Figure at 0x1353bf490>"
      ]
     },
     "metadata": {},
     "output_type": "display_data"
    },
    {
     "data": {
      "image/png": "[encoded data removed]",
      "text/plain": [
       "<matplotlib.figure.Figure at 0x13505ab90>"
      ]
     },
     "metadata": {},
     "output_type": "display_data"
    }
   ],
   "source": [
    "sample_to_vis = 5\n",
    "qz_sample = qz_kept.sample(sample_to_vis)\n",
    "\n",
    "for i in range(sample_to_vis):\n",
    "    img, _ = P(qz_sample[i])\n",
    "    plot(img.eval())\n",
    "    \n",
    "avg_img, _ = P(tf.reduce_mean(qz_sample, 0))\n",
    "plot(avg_img.eval())"
   ]
  },
  {
   "cell_type": "code",
   "execution_count": 13,
   "metadata": {
    "collapsed": false
   },
   "outputs": [],
   "source": [
    "def recon_loss(x_gt,z_hmc): \n",
    "    return tf.reduce_sum(tf.nn.sigmoid_cross_entropy_with_logits(logits=P(z_hmc)[1], labels=x_gt), 1).eval()"
   ]
  },
  {
   "cell_type": "code",
   "execution_count": 14,
   "metadata": {
    "collapsed": false
   },
   "outputs": [
    {
     "name": "stdout",
     "output_type": "stream",
     "text": [
      "[ 60.07982254]\n",
      "[ 91.81243896]\n",
      "yay\n",
      "[ 85.92230988]\n",
      "[ 92.70771027]\n",
      "[ 106.04373932]\n",
      "yay\n",
      "[ 73.79493713]\n",
      "[ 100.49784851]\n",
      "[ 90.50302124]\n",
      "[ 90.37689972]\n",
      "[ 86.94503784]\n",
      "[ 94.46937561]\n",
      "[ 120.23963928]\n",
      "[ 93.76238251]\n",
      "[ 112.55857086]\n",
      "[ 114.88426208]\n",
      "[ 101.45747375]\n",
      "[ 83.13262939]\n",
      "[ 97.95941162]\n",
      "[ 83.4263382]\n",
      "[ 77.29904175]\n",
      "[ 111.74755096]\n",
      "[ 78.13861847]\n",
      "[ 91.50671387]\n",
      "yay\n",
      "[ 69.85454559]\n",
      "[ 85.09741974]\n",
      "yay\n",
      "[ 68.70373535]\n",
      "[ 92.11201477]\n",
      "[ 102.56273651]\n",
      "[ 127.38512421]\n",
      "[ 89.12137604]\n",
      "[ 76.401474]\n",
      "[ 81.28222656]\n",
      "[ 75.48765564]\n",
      "[ 81.77897644]\n",
      "[ 89.84474945]\n",
      "[ 75.05583191]\n",
      "[ 96.02957153]\n",
      "[ 87.59337616]\n",
      "[ 87.87272644]\n",
      "[ 116.18704987]\n",
      "[ 97.48486328]\n",
      "[ 100.67222595]\n",
      "[ 75.92689514]\n",
      "[ 104.40603638]\n",
      "[ 79.69389343]\n",
      "[ 76.99917603]\n",
      "[ 112.27947998]\n",
      "[ 92.74551392]\n",
      "[ 125.26794434]\n",
      "[ 110.28308105]\n",
      "[ 94.46842957]\n",
      "[ 70.79147339]\n",
      "yay\n",
      "[ 64.78424835]\n",
      "[ 159.640625]\n",
      "[ 87.59337616]\n",
      "[ 84.32168579]\n",
      "[ 109.90113068]\n",
      "[ 80.04627991]\n",
      "[ 90.04273224]\n",
      "[ 83.16946411]\n",
      "[ 140.27445984]\n",
      "[ 89.08447266]\n",
      "[ 114.38680267]\n",
      "[ 89.65478516]\n",
      "[ 94.17584991]\n",
      "[ 72.34857178]\n",
      "[ 100.23739624]\n",
      "[ 96.72001648]\n",
      "[ 114.07620239]\n",
      "[ 84.24213409]\n",
      "[ 80.48860168]\n",
      "[ 84.32168579]\n",
      "[ 81.85188293]\n",
      "[ 117.28746033]\n",
      "[ 131.92337036]\n",
      "[ 114.25792694]\n",
      "[ 96.61885834]\n",
      "[ 111.76998901]\n",
      "[ 98.44921112]\n",
      "[ 105.59503174]\n",
      "[ 98.01586914]\n",
      "[ 116.72415161]\n",
      "[ 90.33589172]\n",
      "[ 86.46880341]\n",
      "[ 110.33913422]\n",
      "[ 95.21707153]\n",
      "[ 89.59181213]\n",
      "[ 92.1590271]\n",
      "[ 90.35973358]\n",
      "[ 87.33746338]\n",
      "[ 112.83942413]\n",
      "[ 69.72124481]\n",
      "[ 88.64654541]\n",
      "[ 89.18521881]\n",
      "[ 94.87098694]\n",
      "[ 76.45500183]\n",
      "[ 101.02563477]\n",
      "[ 100.89681244]\n",
      "[ 95.52383423]\n",
      "[ 85.09947205]\n",
      "[ 86.82494354]\n"
     ]
    }
   ],
   "source": [
    "num_to_best = 100\n",
    "\n",
    "print recon_loss(x_gt,Q(x_gt)[0])\n",
    "\n",
    "samples_to_check = qz_kept.sample(num_to_best).eval()\n",
    "\n",
    "best_sample = samples_to_check[0]\n",
    "\n",
    "for sample in samples_to_check:\n",
    "    \n",
    "#     print recon_loss(x_gt,this_sample)\n",
    "    if recon_loss(x_gt,sample)<recon_loss(x_gt,best_sample):\n",
    "        best_sample = sample\n",
    "        print 'yay'\n",
    "    print recon_loss(x_gt,sample)"
   ]
  },
  {
   "cell_type": "code",
   "execution_count": 29,
   "metadata": {
    "collapsed": false
   },
   "outputs": [
    {
     "data": {
      "image/png": "[encoded data removed]",
      "text/plain": [
       "<matplotlib.figure.Figure at 0x13589a510>"
      ]
     },
     "execution_count": 29,
     "metadata": {},
     "output_type": "execute_result"
    },
    {
     "data": {
      "image/png": "[encoded data removed]",
      "text/plain": [
       "<matplotlib.figure.Figure at 0x13589a510>"
      ]
     },
     "metadata": {},
     "output_type": "display_data"
    }
   ],
   "source": [
    "plot(P(best_sample)[0].eval())\n"
   ]
  },
  {
   "cell_type": "code",
   "execution_count": 30,
   "metadata": {
    "collapsed": false
   },
   "outputs": [
    {
     "data": {
      "image/png": "[encoded data removed]",
      "text/plain": [
       "<matplotlib.figure.Figure at 0x135324a10>"
      ]
     },
     "execution_count": 30,
     "metadata": {},
     "output_type": "execute_result"
    },
    {
     "data": {
      "image/png": "[encoded data removed]",
      "text/plain": [
       "<matplotlib.figure.Figure at 0x135324a10>"
      ]
     },
     "metadata": {},
     "output_type": "display_data"
    }
   ],
   "source": [
    "plot(x_gt)\n"
   ]
  },
  {
   "cell_type": "code",
   "execution_count": 31,
   "metadata": {
    "collapsed": false
   },
   "outputs": [
    {
     "data": {
      "image/png": "[encoded data removed]",
      "text/plain": [
       "<matplotlib.figure.Figure at 0x13536a1d0>"
      ]
     },
     "execution_count": 31,
     "metadata": {},
     "output_type": "execute_result"
    },
    {
     "data": {
      "image/png": "[encoded data removed]",
      "text/plain": [
       "<matplotlib.figure.Figure at 0x13536a1d0>"
      ]
     },
     "metadata": {},
     "output_type": "display_data"
    }
   ],
   "source": [
    "\n",
    "plot(P(Q(x_gt)[0])[0].eval())"
   ]
  },
  {
   "cell_type": "code",
   "execution_count": 203,
   "metadata": {
    "collapsed": false
   },
   "outputs": [
    {
     "data": {
      "text/plain": [
       "array([[-0.95212424, -0.06328762,  1.15245926, -1.89842546,  0.55811429,\n",
       "         0.28280312,  1.36288333, -0.28184998,  0.9417032 ,  0.90358549,\n",
       "         0.26905739,  0.08368081, -0.13203382, -0.92147446,  0.29938996,\n",
       "         1.16178298, -0.01221067, -1.98057282,  0.38699692,  1.04599583,\n",
       "         0.58394665, -0.99725592, -0.00950748, -0.27716935, -1.20402026,\n",
       "         1.3431704 ,  1.10342491,  0.26597792,  0.59657621,  0.07928611,\n",
       "         1.34685087, -0.62939471,  0.01714846,  1.36101007, -1.02673328,\n",
       "        -0.79244512, -1.47798836, -0.52183121,  0.3043693 , -0.14730322,\n",
       "         0.72478098, -0.76513886,  1.24852192, -0.74000216,  1.18806839,\n",
       "         0.90432167,  1.0154866 , -1.30663764,  0.86737531,  0.79493713,\n",
       "        -0.13313723, -0.70984679, -0.83949274,  0.4837237 ,  0.27060384,\n",
       "         0.16487481, -1.33788598, -0.69531536,  0.00543284,  1.02623618,\n",
       "        -1.54417562, -1.13814795,  1.41500294, -0.61554807,  0.60116261,\n",
       "        -0.5156759 , -0.71881491,  1.18957877,  0.72951806,  1.3412385 ,\n",
       "        -0.36838973, -1.83713412,  1.20395446, -0.91069323,  2.06827641,\n",
       "         1.3517642 ,  0.5501166 , -0.62732863,  1.31414163, -1.19105613,\n",
       "        -0.83807123,  0.04787865, -1.4432584 , -0.63419402, -0.15236321,\n",
       "        -0.57083607, -0.67204028, -0.13113713, -0.64395642,  0.11983359,\n",
       "        -1.16655254,  0.09983939, -0.92745167, -1.0916959 ,  0.30746913,\n",
       "         0.27825102, -0.71571571,  0.97823524,  0.76258039, -1.59318936]], dtype=float32)"
      ]
     },
     "execution_count": 203,
     "metadata": {},
     "output_type": "execute_result"
    }
   ],
   "source": [
    "best_sample.eval()"
   ]
  },
  {
   "cell_type": "code",
   "execution_count": 218,
   "metadata": {
    "collapsed": false
   },
   "outputs": [],
   "source": [
    "stored = qz_kept.sample(4)[:].eval()"
   ]
  },
  {
   "cell_type": "code",
   "execution_count": 224,
   "metadata": {
    "collapsed": false
   },
   "outputs": [
    {
     "data": {
      "text/plain": [
       "array([[[ -1.77094197e+00,   2.77774215e-01,  -1.15036726e+00,\n",
       "           5.25301456e-01,   9.55294371e-01,   6.69355035e-01,\n",
       "          -1.72050345e+00,   3.35078716e-01,  -5.86141586e-01,\n",
       "          -4.74250972e-01,   2.66247940e+00,  -2.17966616e-01,\n",
       "           5.29391527e-01,  -1.07459414e+00,   1.95989633e+00,\n",
       "           9.54027951e-01,  -3.52927297e-01,   1.47278917e+00,\n",
       "          -5.28152466e-01,  -8.81084085e-01,  -1.29410434e+00,\n",
       "          -1.80810690e-03,  -6.20344996e-01,   9.65987802e-01,\n",
       "          -5.01084089e-01,   4.87332255e-01,   1.49300170e+00,\n",
       "          -9.29297328e-01,   1.97481692e+00,  -1.22652836e-01,\n",
       "          -1.05771375e+00,   1.88145280e-01,  -8.50787222e-01,\n",
       "           2.00365663e-01,  -6.21669054e-01,  -1.32686973e-01,\n",
       "          -5.69190502e-01,   1.46621060e+00,   1.70628381e+00,\n",
       "          -9.07984734e-01,  -6.88962579e-01,   1.26945972e+00,\n",
       "          -1.44501138e+00,  -1.36460459e+00,   1.32471228e+00,\n",
       "          -6.16100848e-01,  -1.68069744e+00,  -1.00365615e+00,\n",
       "           3.21731955e-01,   2.33565122e-01,   1.25674629e+00,\n",
       "           9.53942239e-01,  -4.56361175e-01,   6.88452244e-01,\n",
       "           1.71678871e-01,  -5.36996603e-01,   1.48320055e+00,\n",
       "          -5.31994164e-01,   6.53615952e-01,   3.41855437e-01,\n",
       "           6.40051961e-01,   6.22993469e-01,   8.71299505e-02,\n",
       "           6.23978794e-01,  -1.24142301e+00,  -1.95188594e+00,\n",
       "           2.57218659e-01,  -7.59877443e-01,   3.47806215e-01,\n",
       "           6.26314759e-01,  -4.70299631e-01,   1.38432860e+00,\n",
       "          -5.88526428e-01,  -5.63829541e-01,   2.50211507e-01,\n",
       "           1.60950243e-01,   1.61287263e-02,  -3.56245548e-01,\n",
       "           1.07220495e+00,  -1.75527203e+00,  -5.84934473e-01,\n",
       "           1.78686380e+00,  -9.41255689e-01,   1.55583704e+00,\n",
       "          -5.57779908e-01,  -3.74097884e-01,   1.68389201e-01,\n",
       "          -7.54676580e-01,  -1.03013051e+00,  -1.16477227e+00,\n",
       "          -1.80064887e-02,   1.17861724e+00,  -1.28763223e+00,\n",
       "          -7.71435261e-01,   1.03898907e+00,   7.12799072e-01,\n",
       "          -1.00992084e+00,   1.00052759e-01,   6.67639315e-01,\n",
       "          -2.05251551e+00]],\n",
       "\n",
       "       [[  8.82371217e-02,   8.63059044e-01,   7.73940146e-01,\n",
       "           1.70217860e+00,  -4.19860005e-01,  -1.63009131e+00,\n",
       "           3.09068561e-01,  -1.67706490e+00,   6.22950733e-01,\n",
       "           1.33083272e+00,   8.22432637e-01,  -1.22165680e+00,\n",
       "          -9.51916337e-01,  -9.49199975e-01,   1.13411391e+00,\n",
       "           1.08308184e+00,  -1.57391918e+00,  -8.48052651e-03,\n",
       "           8.66308808e-01,  -9.62323427e-01,  -1.20224133e-01,\n",
       "          -1.75481051e-01,   1.31606698e+00,   5.03437400e-01,\n",
       "          -8.90141129e-01,  -1.45057237e+00,   6.29137099e-01,\n",
       "           2.39854455e-02,  -1.08095014e+00,  -2.06490517e-01,\n",
       "          -6.17369294e-01,   7.63421178e-01,   1.29960918e+00,\n",
       "           7.85362124e-01,  -9.70822871e-01,   8.94627571e-01,\n",
       "           9.10942972e-01,   7.75060654e-02,   9.11674976e-01,\n",
       "          -9.34086561e-01,   9.30080295e-01,  -9.93284881e-01,\n",
       "          -1.31562817e+00,  -1.90973729e-01,  -2.60400891e-01,\n",
       "          -3.01327050e-01,  -2.61743844e-01,  -2.73814201e-01,\n",
       "          -1.62735415e+00,   2.17696333e+00,   7.89492369e-01,\n",
       "           1.66083539e+00,   1.74887145e+00,  -1.44612586e+00,\n",
       "           9.19874907e-01,   4.70419228e-03,   2.66282082e-01,\n",
       "           1.34885883e+00,   4.27493006e-01,   1.07142293e+00,\n",
       "           2.36562625e-01,  -1.70282233e+00,  -1.67741191e+00,\n",
       "           2.72819996e-01,   3.70452702e-01,  -6.30311310e-01,\n",
       "           9.65470493e-01,   1.41900361e-01,   2.61292458e-02,\n",
       "           1.68316871e-01,  -1.18604827e+00,   1.74411774e-01,\n",
       "          -9.94593084e-01,  -4.57874179e-01,   2.55102366e-01,\n",
       "          -5.68329096e-01,  -2.91859061e-01,  -7.43655205e-01,\n",
       "           1.35255301e+00,  -8.90746772e-01,   4.87583399e-01,\n",
       "           2.00434756e+00,  -8.47808897e-01,  -9.94104743e-02,\n",
       "          -4.60711360e-01,  -1.00696564e-01,   9.38112736e-02,\n",
       "          -1.18670225e+00,  -1.15381634e+00,   2.69939974e-02,\n",
       "           9.52044606e-01,  -8.26687753e-01,  -3.28331053e-01,\n",
       "           2.06649870e-01,   1.34717202e+00,   2.76760459e-01,\n",
       "          -8.29064012e-01,  -9.06029403e-01,   7.58139849e-01,\n",
       "          -1.10707581e+00]],\n",
       "\n",
       "       [[  1.00022292e+00,  -7.00250506e-01,   2.97962189e-01,\n",
       "          -6.19848371e-02,  -1.41947299e-01,  -6.43339634e-01,\n",
       "           8.76634777e-01,  -1.39276814e+00,   6.82565987e-01,\n",
       "           2.48694062e-01,   5.82494974e-01,  -2.00645238e-01,\n",
       "           6.85441494e-01,  -1.35872233e+00,   5.75277090e-01,\n",
       "           1.46817541e+00,   1.40739655e+00,  -1.16061091e-01,\n",
       "          -5.88528454e-01,   4.91836965e-01,   5.64186752e-01,\n",
       "           9.28968251e-01,   3.26254219e-02,  -1.28584146e+00,\n",
       "          -1.52735591e+00,  -1.19095698e-01,  -1.14167437e-01,\n",
       "          -1.29319715e+00,  -6.30380452e-01,  -4.71426129e-01,\n",
       "          -6.36266649e-01,  -1.56258047e-01,   3.93396139e-01,\n",
       "          -8.02334905e-01,  -1.44925129e+00,  -1.10771644e+00,\n",
       "          -8.07516575e-02,  -7.64111161e-01,   4.11075979e-01,\n",
       "          -1.17281866e+00,  -1.61847949e+00,   5.48513591e-01,\n",
       "          -3.32647443e-01,   1.96452630e+00,  -1.30787849e+00,\n",
       "          -7.69525111e-01,  -4.13506866e-01,   1.84617257e+00,\n",
       "          -1.19073045e+00,  -3.95156562e-01,  -8.79389644e-02,\n",
       "          -1.43844962e+00,  -1.27001727e+00,  -1.50629163e+00,\n",
       "           1.52935028e+00,  -3.97780091e-01,   9.40809011e-01,\n",
       "           9.26748753e-01,   3.28060478e-01,   1.21754289e-01,\n",
       "          -4.64540452e-01,   7.14209676e-01,   6.01159513e-01,\n",
       "           2.10270584e-02,   3.77862453e-02,  -1.20545781e+00,\n",
       "          -3.05407822e-01,   1.04406881e+00,   4.37735617e-01,\n",
       "           7.56389946e-02,  -6.39391720e-01,  -7.79311001e-01,\n",
       "           1.24752033e+00,  -1.31457317e+00,  -2.30521607e+00,\n",
       "          -1.39345646e+00,   3.08079839e-01,  -9.36846137e-01,\n",
       "           1.54241860e+00,   3.37198168e-01,  -5.37254930e-01,\n",
       "           1.34518290e+00,   1.45493001e-01,  -4.66225356e-01,\n",
       "          -1.36623889e-01,   6.13862991e-01,  -1.62256718e-01,\n",
       "          -9.36089933e-01,  -1.66952968e-01,  -1.10027218e+00,\n",
       "          -7.47651935e-01,  -1.04320359e+00,  -2.23358226e+00,\n",
       "           3.05147171e-02,  -1.12197578e+00,  -9.26055074e-01,\n",
       "          -2.13988066e-01,   1.59882450e+00,   1.24610412e+00,\n",
       "          -2.06044698e+00]],\n",
       "\n",
       "       [[  5.95282793e-01,  -4.88911867e-01,   1.41743290e+00,\n",
       "          -1.08799505e+00,   2.56090492e-01,  -8.82663012e-01,\n",
       "           5.77880383e-01,  -4.23578203e-01,   1.24052799e+00,\n",
       "          -1.09670854e+00,   9.34319556e-01,  -1.91773677e+00,\n",
       "          -2.93988407e-01,   9.38408673e-01,  -8.72765422e-01,\n",
       "           1.20466352e+00,   9.41379011e-01,  -1.44646263e+00,\n",
       "           6.99597597e-01,   2.11187422e-01,  -9.92810428e-01,\n",
       "           8.58478487e-01,  -1.61867213e+00,  -9.97040868e-02,\n",
       "          -1.22523713e+00,  -2.08105624e-01,  -1.53429854e+00,\n",
       "           5.03936291e-01,   1.62103593e+00,   8.34003627e-01,\n",
       "          -1.19675112e+00,  -4.37915325e-02,  -1.49075890e+00,\n",
       "          -9.73326564e-01,  -1.59374082e+00,   4.81459945e-01,\n",
       "           1.29772973e+00,  -1.37422693e+00,  -7.63277411e-01,\n",
       "          -5.92532277e-01,  -1.97736096e+00,   8.28392684e-01,\n",
       "           5.84624887e-01,   4.86956909e-04,  -1.57919097e+00,\n",
       "          -1.36222839e-01,  -7.85724640e-01,  -1.85804057e+00,\n",
       "          -1.42573392e+00,   1.49963224e+00,   7.35154629e-01,\n",
       "           4.17870343e-01,   1.56612659e+00,   9.76863980e-01,\n",
       "          -1.33080411e+00,  -6.23160005e-02,  -1.07576534e-01,\n",
       "           6.51349604e-01,   1.51856780e-01,   2.13137412e+00,\n",
       "          -1.29114234e+00,   1.29038501e+00,  -1.32884055e-01,\n",
       "           1.13414228e+00,  -4.02182758e-01,  -1.78301704e+00,\n",
       "          -3.17941546e-01,   5.80271840e-01,   3.83647144e-01,\n",
       "          -1.56344205e-01,  -1.54342353e-01,  -1.94241494e-01,\n",
       "           1.14042568e+00,  -1.62450626e-01,   7.68807292e-01,\n",
       "          -2.95438945e-01,   7.23113894e-01,  -9.00874674e-01,\n",
       "          -1.04518592e+00,  -7.62953222e-01,  -3.12595218e-01,\n",
       "           4.60872322e-01,   1.27079308e-01,  -9.70212221e-02,\n",
       "           1.44720471e+00,   3.39332819e-01,  -1.14790344e+00,\n",
       "           1.19253325e+00,  -7.04856932e-01,   4.34516549e-01,\n",
       "           4.27021742e-01,  -1.06354952e+00,  -1.13601661e+00,\n",
       "          -8.68325651e-01,   7.48353183e-01,  -1.04695797e-01,\n",
       "          -1.78134513e+00,  -5.84409654e-01,  -1.31199872e+00,\n",
       "          -2.09062409e+00]]], dtype=float32)"
      ]
     },
     "execution_count": 224,
     "metadata": {},
     "output_type": "execute_result"
    }
   ],
   "source": [
    "stored"
   ]
  },
  {
   "cell_type": "code",
   "execution_count": null,
   "metadata": {
    "collapsed": true
   },
   "outputs": [],
   "source": []
  }
 ],
 "metadata": {
  "_draft": {
   "nbviewer_url": "https://gist.github.com/9ee7dcdeddd2116db9ffee9613bf0ab0"
  },
  "gist": {
   "data": {
    "description": "HMC_VAE.ipynb",
    "public": true
   },
   "id": "9ee7dcdeddd2116db9ffee9613bf0ab0"
  },
  "kernelspec": {
   "display_name": "Python 2",
   "language": "python",
   "name": "python2"
  },
  "language_info": {
   "codemirror_mode": {
    "name": "ipython",
    "version": 2
   },
   "file_extension": ".py",
   "mimetype": "text/x-python",
   "name": "python",
   "nbconvert_exporter": "python",
   "pygments_lexer": "ipython2",
   "version": "2.7.10"
  },
  "varInspector": {
   "cols": {
    "lenName": 16,
    "lenType": 16,
    "lenVar": 40
   },
   "kernels_config": {
    "python": {
     "delete_cmd_postfix": "",
     "delete_cmd_prefix": "del ",
     "library": "var_list.py",
     "varRefreshCmd": "print(var_dic_list())"
    },
    "r": {
     "delete_cmd_postfix": ") ",
     "delete_cmd_prefix": "rm(",
     "library": "var_list.r",
     "varRefreshCmd": "cat(var_dic_list()) "
    }
   },
   "types_to_exclude": [
    "module",
    "function",
    "builtin_function_or_method",
    "instance",
    "_Feature"
   ],
   "window_display": false
  }
 },
 "nbformat": 4,
 "nbformat_minor": 2
}
